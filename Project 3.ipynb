{
 "cells": [
  {
   "cell_type": "markdown",
   "metadata": {},
   "source": [
    "#  Project 3: Web APIs & Classification"
   ]
  },
  {
   "cell_type": "markdown",
   "metadata": {},
   "source": [
    "## Problem Statement: To find out which subreddit the given posts belong to"
   ]
  },
  {
   "cell_type": "markdown",
   "metadata": {},
   "source": [
    "To identify which subreddit a particular post belongs to by creating Logistic Regression and Multinomial Naive Bayes classifier model."
   ]
  },
  {
   "cell_type": "markdown",
   "metadata": {},
   "source": [
    "## Executive Summary"
   ]
  },
  {
   "cell_type": "markdown",
   "metadata": {},
   "source": [
    "Reddit is a discussion forum based in America that covers a variety of topics such as food, music, moves, news, etc. A recent research in July 2019 shows that Reddit ranks fifth in the most visited website in the states and thirteenth in the world.\n",
    "\n",
    "With many people posting in subreddit everyday, it is important to classify the posts to the correct subreddit. By classifying the posts into the correct subreddit, users will be able to have a good user experience and website engagement may increase.\n",
    "\n",
    "The solution to classify the posts correctly is to build a strong model with high accuracy rate of classification. \n",
    "\n",
    "We are able to provide a solution as we have built various model for others and have a good track record for the past years.\n",
    "\n",
    "We would love to take on this challenge to further improve our current method of building a model and to build a more efficient model to suit your needs."
   ]
  },
  {
   "cell_type": "markdown",
   "metadata": {},
   "source": [
    "### Contents:\n",
    "- [Import Libraries](#Import-Libraries)\n",
    "- [Webscraping and Preparation of the 1st subreddit](#Webscraping-and-Preparation-of-the-1st-subreddit)\n",
    "- [Webscraping and Preparation of the 2nd subreddit](#Webscraping-and-Preparation-of-the-2nd-subreddit)\n",
    "- [EDA, Data Cleaning and Preprocessing](#EDA,-Data-Cleaning-and-Preprocessing)\n",
    "- [Train-Test-Split the Data and Build a Logistic Regression Model](#Train-Test-Split-the-Data-and-Build-a-Logistic-Regression-Model)\n",
    "- [Train-Test-Split the Data and Build a Multinomial Naive Bayes](#Train-Test-Split-the-Data-and-Build-a-Multinomial-Naive-Bayes)\n",
    "- [Conclusion and Recommendation](#Conclusion-and-Recommendation)"
   ]
  },
  {
   "cell_type": "markdown",
   "metadata": {},
   "source": [
    "## Import Libraries"
   ]
  },
  {
   "cell_type": "markdown",
   "metadata": {},
   "source": [
    "###### Import `requests` and other libraries needed for the project"
   ]
  },
  {
   "cell_type": "code",
   "execution_count": 1,
   "metadata": {},
   "outputs": [],
   "source": [
    "import requests\n",
    "import random\n",
    "import time\n",
    "import nltk\n",
    "import pandas as pd\n",
    "import regex as re\n",
    "import matplotlib.pyplot as plt\n",
    "from sklearn.model_selection import train_test_split\n",
    "from sklearn.feature_extraction.text import CountVectorizer, TfidfVectorizer\n",
    "from sklearn.linear_model import LogisticRegression\n",
    "from sklearn.naive_bayes import MultinomialNB\n",
    "from sklearn.metrics import confusion_matrix\n",
    "from bs4 import BeautifulSoup\n",
    "from nltk.corpus import stopwords\n",
    "from nltk.stem import WordNetLemmatizer \n",
    "from nltk.stem.snowball import SnowballStemmer\n",
    "from sklearn.metrics import roc_curve, roc_auc_score"
   ]
  },
  {
   "cell_type": "markdown",
   "metadata": {},
   "source": [
    "## Webscraping and Preparation of the 1st subreddit"
   ]
  },
  {
   "cell_type": "markdown",
   "metadata": {},
   "source": [
    "###### 1. Input URL, `requests.get` and check `status_code` if there is any error"
   ]
  },
  {
   "cell_type": "code",
   "execution_count": 2,
   "metadata": {},
   "outputs": [],
   "source": [
    "world_url = 'https://www.reddit.com/r/worldnews.json'"
   ]
  },
  {
   "cell_type": "code",
   "execution_count": 3,
   "metadata": {},
   "outputs": [],
   "source": [
    "world_response = requests.get(world_url, headers={'User-agent': 'Pony Inc 1.0'})"
   ]
  },
  {
   "cell_type": "code",
   "execution_count": 4,
   "metadata": {},
   "outputs": [
    {
     "data": {
      "text/plain": [
       "200"
      ]
     },
     "execution_count": 4,
     "metadata": {},
     "output_type": "execute_result"
    }
   ],
   "source": [
    "world_response.status_code"
   ]
  },
  {
   "cell_type": "markdown",
   "metadata": {},
   "source": [
    "###### 2. Convert into dictionary using `.json()` and identify keys using `.keys()`"
   ]
  },
  {
   "cell_type": "code",
   "execution_count": 5,
   "metadata": {},
   "outputs": [],
   "source": [
    "world_dict = world_response.json()"
   ]
  },
  {
   "cell_type": "code",
   "execution_count": 6,
   "metadata": {},
   "outputs": [
    {
     "data": {
      "text/plain": [
       "dict_keys(['kind', 'data'])"
      ]
     },
     "execution_count": 6,
     "metadata": {},
     "output_type": "execute_result"
    }
   ],
   "source": [
    "world_dict.keys()"
   ]
  },
  {
   "cell_type": "code",
   "execution_count": 7,
   "metadata": {},
   "outputs": [
    {
     "data": {
      "text/plain": [
       "dict_keys(['modhash', 'dist', 'children', 'after', 'before'])"
      ]
     },
     "execution_count": 7,
     "metadata": {},
     "output_type": "execute_result"
    }
   ],
   "source": [
    "world_dict['data'].keys()"
   ]
  },
  {
   "cell_type": "markdown",
   "metadata": {},
   "source": [
    "Identify how many posts are there in the first page of the subreddit and there should be 25 of it."
   ]
  },
  {
   "cell_type": "code",
   "execution_count": 8,
   "metadata": {},
   "outputs": [
    {
     "data": {
      "text/plain": [
       "25"
      ]
     },
     "execution_count": 8,
     "metadata": {},
     "output_type": "execute_result"
    }
   ],
   "source": [
    "len(world_dict['data']['children'])"
   ]
  },
  {
   "cell_type": "markdown",
   "metadata": {},
   "source": [
    "The following cells below shows all the information for the first post on the subreddit."
   ]
  },
  {
   "cell_type": "code",
   "execution_count": 9,
   "metadata": {
    "scrolled": true
   },
   "outputs": [
    {
     "data": {
      "text/plain": [
       "{'kind': 't3',\n",
       " 'data': {'approved_at_utc': None,\n",
       "  'subreddit': 'worldnews',\n",
       "  'selftext': '',\n",
       "  'author_fullname': 't2_4ccm762e',\n",
       "  'saved': False,\n",
       "  'mod_reason_title': None,\n",
       "  'gilded': 0,\n",
       "  'clicked': False,\n",
       "  'title': 'Far-Right Terrorism Has Increased 320 Percent in Just 4 Years, Extremism Watchdog Warns',\n",
       "  'link_flair_richtext': [],\n",
       "  'subreddit_name_prefixed': 'r/worldnews',\n",
       "  'hidden': False,\n",
       "  'pwls': 6,\n",
       "  'link_flair_css_class': None,\n",
       "  'downs': 0,\n",
       "  'hide_score': False,\n",
       "  'name': 't3_e81b2r',\n",
       "  'quarantine': False,\n",
       "  'link_flair_text_color': 'dark',\n",
       "  'author_flair_background_color': None,\n",
       "  'subreddit_type': 'public',\n",
       "  'ups': 41937,\n",
       "  'total_awards_received': 1,\n",
       "  'media_embed': {},\n",
       "  'author_flair_template_id': None,\n",
       "  'is_original_content': False,\n",
       "  'user_reports': [],\n",
       "  'secure_media': None,\n",
       "  'is_reddit_media_domain': False,\n",
       "  'is_meta': False,\n",
       "  'category': None,\n",
       "  'secure_media_embed': {},\n",
       "  'link_flair_text': None,\n",
       "  'can_mod_post': False,\n",
       "  'score': 41937,\n",
       "  'approved_by': None,\n",
       "  'author_premium': True,\n",
       "  'thumbnail': '',\n",
       "  'edited': False,\n",
       "  'author_flair_css_class': None,\n",
       "  'steward_reports': [],\n",
       "  'author_flair_richtext': [],\n",
       "  'gildings': {'gid_1': 1},\n",
       "  'content_categories': None,\n",
       "  'is_self': False,\n",
       "  'mod_note': None,\n",
       "  'created': 1575876177.0,\n",
       "  'link_flair_type': 'text',\n",
       "  'wls': 6,\n",
       "  'removed_by_category': None,\n",
       "  'banned_by': None,\n",
       "  'author_flair_type': 'text',\n",
       "  'domain': 'newsweek.com',\n",
       "  'allow_live_comments': True,\n",
       "  'selftext_html': None,\n",
       "  'likes': None,\n",
       "  'suggested_sort': None,\n",
       "  'banned_at_utc': None,\n",
       "  'view_count': None,\n",
       "  'archived': False,\n",
       "  'no_follow': False,\n",
       "  'is_crosspostable': False,\n",
       "  'pinned': False,\n",
       "  'over_18': False,\n",
       "  'all_awardings': [{'count': 1,\n",
       "    'is_enabled': True,\n",
       "    'subreddit_id': None,\n",
       "    'description': \"Shows the Silver Award... and that's it.\",\n",
       "    'end_date': None,\n",
       "    'award_sub_type': 'GLOBAL',\n",
       "    'coin_reward': 0,\n",
       "    'icon_url': 'https://www.redditstatic.com/gold/awards/icon/silver_512.png',\n",
       "    'days_of_premium': 0,\n",
       "    'is_new': False,\n",
       "    'id': 'gid_1',\n",
       "    'icon_height': 512,\n",
       "    'resized_icons': [{'url': 'https://www.redditstatic.com/gold/awards/icon/silver_16.png',\n",
       "      'width': 16,\n",
       "      'height': 16},\n",
       "     {'url': 'https://www.redditstatic.com/gold/awards/icon/silver_32.png',\n",
       "      'width': 32,\n",
       "      'height': 32},\n",
       "     {'url': 'https://www.redditstatic.com/gold/awards/icon/silver_48.png',\n",
       "      'width': 48,\n",
       "      'height': 48},\n",
       "     {'url': 'https://www.redditstatic.com/gold/awards/icon/silver_64.png',\n",
       "      'width': 64,\n",
       "      'height': 64},\n",
       "     {'url': 'https://www.redditstatic.com/gold/awards/icon/silver_128.png',\n",
       "      'width': 128,\n",
       "      'height': 128}],\n",
       "    'days_of_drip_extension': 0,\n",
       "    'award_type': 'global',\n",
       "    'start_date': None,\n",
       "    'coin_price': 100,\n",
       "    'icon_width': 512,\n",
       "    'subreddit_coin_reward': 0,\n",
       "    'name': 'Silver'}],\n",
       "  'awarders': [],\n",
       "  'media_only': False,\n",
       "  'can_gild': False,\n",
       "  'spoiler': False,\n",
       "  'locked': False,\n",
       "  'author_flair_text': None,\n",
       "  'visited': False,\n",
       "  'removed_by': None,\n",
       "  'num_reports': None,\n",
       "  'distinguished': None,\n",
       "  'subreddit_id': 't5_2qh13',\n",
       "  'mod_reason_by': None,\n",
       "  'removal_reason': None,\n",
       "  'link_flair_background_color': '',\n",
       "  'id': 'e81b2r',\n",
       "  'is_robot_indexable': True,\n",
       "  'report_reasons': None,\n",
       "  'author': 'AntifaSuperSwoledier',\n",
       "  'discussion_type': None,\n",
       "  'num_comments': 4586,\n",
       "  'send_replies': True,\n",
       "  'whitelist_status': 'all_ads',\n",
       "  'contest_mode': False,\n",
       "  'mod_reports': [],\n",
       "  'author_patreon_flair': False,\n",
       "  'author_flair_text_color': None,\n",
       "  'permalink': '/r/worldnews/comments/e81b2r/farright_terrorism_has_increased_320_percent_in/',\n",
       "  'parent_whitelist_status': 'all_ads',\n",
       "  'stickied': False,\n",
       "  'url': 'https://www.newsweek.com/far-right-terrorism-increased-320-percent-4-years-extremism-watchdog-1472642',\n",
       "  'subreddit_subscribers': 22625981,\n",
       "  'created_utc': 1575847377.0,\n",
       "  'num_crossposts': 6,\n",
       "  'media': None,\n",
       "  'is_video': False}}"
      ]
     },
     "execution_count": 9,
     "metadata": {},
     "output_type": "execute_result"
    }
   ],
   "source": [
    "world_dict['data']['children'][0]"
   ]
  },
  {
   "cell_type": "code",
   "execution_count": 10,
   "metadata": {},
   "outputs": [
    {
     "data": {
      "text/plain": [
       "dict_keys(['kind', 'data'])"
      ]
     },
     "execution_count": 10,
     "metadata": {},
     "output_type": "execute_result"
    }
   ],
   "source": [
    "world_dict['data']['children'][0].keys()"
   ]
  },
  {
   "cell_type": "code",
   "execution_count": 11,
   "metadata": {},
   "outputs": [
    {
     "data": {
      "text/plain": [
       "'t3'"
      ]
     },
     "execution_count": 11,
     "metadata": {},
     "output_type": "execute_result"
    }
   ],
   "source": [
    "world_dict['data']['children'][0]['kind']"
   ]
  },
  {
   "cell_type": "code",
   "execution_count": 12,
   "metadata": {
    "scrolled": true
   },
   "outputs": [
    {
     "data": {
      "text/plain": [
       "{'approved_at_utc': None,\n",
       " 'subreddit': 'worldnews',\n",
       " 'selftext': '',\n",
       " 'author_fullname': 't2_4ccm762e',\n",
       " 'saved': False,\n",
       " 'mod_reason_title': None,\n",
       " 'gilded': 0,\n",
       " 'clicked': False,\n",
       " 'title': 'Far-Right Terrorism Has Increased 320 Percent in Just 4 Years, Extremism Watchdog Warns',\n",
       " 'link_flair_richtext': [],\n",
       " 'subreddit_name_prefixed': 'r/worldnews',\n",
       " 'hidden': False,\n",
       " 'pwls': 6,\n",
       " 'link_flair_css_class': None,\n",
       " 'downs': 0,\n",
       " 'hide_score': False,\n",
       " 'name': 't3_e81b2r',\n",
       " 'quarantine': False,\n",
       " 'link_flair_text_color': 'dark',\n",
       " 'author_flair_background_color': None,\n",
       " 'subreddit_type': 'public',\n",
       " 'ups': 41937,\n",
       " 'total_awards_received': 1,\n",
       " 'media_embed': {},\n",
       " 'author_flair_template_id': None,\n",
       " 'is_original_content': False,\n",
       " 'user_reports': [],\n",
       " 'secure_media': None,\n",
       " 'is_reddit_media_domain': False,\n",
       " 'is_meta': False,\n",
       " 'category': None,\n",
       " 'secure_media_embed': {},\n",
       " 'link_flair_text': None,\n",
       " 'can_mod_post': False,\n",
       " 'score': 41937,\n",
       " 'approved_by': None,\n",
       " 'author_premium': True,\n",
       " 'thumbnail': '',\n",
       " 'edited': False,\n",
       " 'author_flair_css_class': None,\n",
       " 'steward_reports': [],\n",
       " 'author_flair_richtext': [],\n",
       " 'gildings': {'gid_1': 1},\n",
       " 'content_categories': None,\n",
       " 'is_self': False,\n",
       " 'mod_note': None,\n",
       " 'created': 1575876177.0,\n",
       " 'link_flair_type': 'text',\n",
       " 'wls': 6,\n",
       " 'removed_by_category': None,\n",
       " 'banned_by': None,\n",
       " 'author_flair_type': 'text',\n",
       " 'domain': 'newsweek.com',\n",
       " 'allow_live_comments': True,\n",
       " 'selftext_html': None,\n",
       " 'likes': None,\n",
       " 'suggested_sort': None,\n",
       " 'banned_at_utc': None,\n",
       " 'view_count': None,\n",
       " 'archived': False,\n",
       " 'no_follow': False,\n",
       " 'is_crosspostable': False,\n",
       " 'pinned': False,\n",
       " 'over_18': False,\n",
       " 'all_awardings': [{'count': 1,\n",
       "   'is_enabled': True,\n",
       "   'subreddit_id': None,\n",
       "   'description': \"Shows the Silver Award... and that's it.\",\n",
       "   'end_date': None,\n",
       "   'award_sub_type': 'GLOBAL',\n",
       "   'coin_reward': 0,\n",
       "   'icon_url': 'https://www.redditstatic.com/gold/awards/icon/silver_512.png',\n",
       "   'days_of_premium': 0,\n",
       "   'is_new': False,\n",
       "   'id': 'gid_1',\n",
       "   'icon_height': 512,\n",
       "   'resized_icons': [{'url': 'https://www.redditstatic.com/gold/awards/icon/silver_16.png',\n",
       "     'width': 16,\n",
       "     'height': 16},\n",
       "    {'url': 'https://www.redditstatic.com/gold/awards/icon/silver_32.png',\n",
       "     'width': 32,\n",
       "     'height': 32},\n",
       "    {'url': 'https://www.redditstatic.com/gold/awards/icon/silver_48.png',\n",
       "     'width': 48,\n",
       "     'height': 48},\n",
       "    {'url': 'https://www.redditstatic.com/gold/awards/icon/silver_64.png',\n",
       "     'width': 64,\n",
       "     'height': 64},\n",
       "    {'url': 'https://www.redditstatic.com/gold/awards/icon/silver_128.png',\n",
       "     'width': 128,\n",
       "     'height': 128}],\n",
       "   'days_of_drip_extension': 0,\n",
       "   'award_type': 'global',\n",
       "   'start_date': None,\n",
       "   'coin_price': 100,\n",
       "   'icon_width': 512,\n",
       "   'subreddit_coin_reward': 0,\n",
       "   'name': 'Silver'}],\n",
       " 'awarders': [],\n",
       " 'media_only': False,\n",
       " 'can_gild': False,\n",
       " 'spoiler': False,\n",
       " 'locked': False,\n",
       " 'author_flair_text': None,\n",
       " 'visited': False,\n",
       " 'removed_by': None,\n",
       " 'num_reports': None,\n",
       " 'distinguished': None,\n",
       " 'subreddit_id': 't5_2qh13',\n",
       " 'mod_reason_by': None,\n",
       " 'removal_reason': None,\n",
       " 'link_flair_background_color': '',\n",
       " 'id': 'e81b2r',\n",
       " 'is_robot_indexable': True,\n",
       " 'report_reasons': None,\n",
       " 'author': 'AntifaSuperSwoledier',\n",
       " 'discussion_type': None,\n",
       " 'num_comments': 4586,\n",
       " 'send_replies': True,\n",
       " 'whitelist_status': 'all_ads',\n",
       " 'contest_mode': False,\n",
       " 'mod_reports': [],\n",
       " 'author_patreon_flair': False,\n",
       " 'author_flair_text_color': None,\n",
       " 'permalink': '/r/worldnews/comments/e81b2r/farright_terrorism_has_increased_320_percent_in/',\n",
       " 'parent_whitelist_status': 'all_ads',\n",
       " 'stickied': False,\n",
       " 'url': 'https://www.newsweek.com/far-right-terrorism-increased-320-percent-4-years-extremism-watchdog-1472642',\n",
       " 'subreddit_subscribers': 22625981,\n",
       " 'created_utc': 1575847377.0,\n",
       " 'num_crossposts': 6,\n",
       " 'media': None,\n",
       " 'is_video': False}"
      ]
     },
     "execution_count": 12,
     "metadata": {},
     "output_type": "execute_result"
    }
   ],
   "source": [
    "world_dict['data']['children'][0]['data']"
   ]
  },
  {
   "cell_type": "code",
   "execution_count": 13,
   "metadata": {},
   "outputs": [
    {
     "data": {
      "text/plain": [
       "'worldnews'"
      ]
     },
     "execution_count": 13,
     "metadata": {},
     "output_type": "execute_result"
    }
   ],
   "source": [
    "world_dict['data']['children'][0]['data']['subreddit']"
   ]
  },
  {
   "cell_type": "code",
   "execution_count": 14,
   "metadata": {},
   "outputs": [
    {
     "data": {
      "text/plain": [
       "'Far-Right Terrorism Has Increased 320 Percent in Just 4 Years, Extremism Watchdog Warns'"
      ]
     },
     "execution_count": 14,
     "metadata": {},
     "output_type": "execute_result"
    }
   ],
   "source": [
    "world_dict['data']['children'][0]['data']['title']"
   ]
  },
  {
   "cell_type": "markdown",
   "metadata": {},
   "source": [
    "###### 3. Convert all the data into a `DataFrame`"
   ]
  },
  {
   "cell_type": "code",
   "execution_count": 15,
   "metadata": {},
   "outputs": [],
   "source": [
    "world_posts = [p['data'] for p in world_dict['data']['children']]"
   ]
  },
  {
   "cell_type": "code",
   "execution_count": 16,
   "metadata": {},
   "outputs": [
    {
     "data": {
      "text/html": [
       "<div>\n",
       "<style scoped>\n",
       "    .dataframe tbody tr th:only-of-type {\n",
       "        vertical-align: middle;\n",
       "    }\n",
       "\n",
       "    .dataframe tbody tr th {\n",
       "        vertical-align: top;\n",
       "    }\n",
       "\n",
       "    .dataframe thead th {\n",
       "        text-align: right;\n",
       "    }\n",
       "</style>\n",
       "<table border=\"1\" class=\"dataframe\">\n",
       "  <thead>\n",
       "    <tr style=\"text-align: right;\">\n",
       "      <th></th>\n",
       "      <th>approved_at_utc</th>\n",
       "      <th>subreddit</th>\n",
       "      <th>selftext</th>\n",
       "      <th>author_fullname</th>\n",
       "      <th>saved</th>\n",
       "      <th>mod_reason_title</th>\n",
       "      <th>gilded</th>\n",
       "      <th>clicked</th>\n",
       "      <th>title</th>\n",
       "      <th>link_flair_richtext</th>\n",
       "      <th>...</th>\n",
       "      <th>author_flair_text_color</th>\n",
       "      <th>permalink</th>\n",
       "      <th>parent_whitelist_status</th>\n",
       "      <th>stickied</th>\n",
       "      <th>url</th>\n",
       "      <th>subreddit_subscribers</th>\n",
       "      <th>created_utc</th>\n",
       "      <th>num_crossposts</th>\n",
       "      <th>media</th>\n",
       "      <th>is_video</th>\n",
       "    </tr>\n",
       "  </thead>\n",
       "  <tbody>\n",
       "    <tr>\n",
       "      <td>0</td>\n",
       "      <td>None</td>\n",
       "      <td>worldnews</td>\n",
       "      <td></td>\n",
       "      <td>t2_4ccm762e</td>\n",
       "      <td>False</td>\n",
       "      <td>None</td>\n",
       "      <td>0</td>\n",
       "      <td>False</td>\n",
       "      <td>Far-Right Terrorism Has Increased 320 Percent ...</td>\n",
       "      <td>[]</td>\n",
       "      <td>...</td>\n",
       "      <td>None</td>\n",
       "      <td>/r/worldnews/comments/e81b2r/farright_terroris...</td>\n",
       "      <td>all_ads</td>\n",
       "      <td>False</td>\n",
       "      <td>https://www.newsweek.com/far-right-terrorism-i...</td>\n",
       "      <td>22625981</td>\n",
       "      <td>1.575847e+09</td>\n",
       "      <td>6</td>\n",
       "      <td>None</td>\n",
       "      <td>False</td>\n",
       "    </tr>\n",
       "    <tr>\n",
       "      <td>1</td>\n",
       "      <td>None</td>\n",
       "      <td>worldnews</td>\n",
       "      <td></td>\n",
       "      <td>t2_t22xckq</td>\n",
       "      <td>False</td>\n",
       "      <td>None</td>\n",
       "      <td>0</td>\n",
       "      <td>False</td>\n",
       "      <td>Danish NATO event cancelled after US bars Trum...</td>\n",
       "      <td>[]</td>\n",
       "      <td>...</td>\n",
       "      <td>None</td>\n",
       "      <td>/r/worldnews/comments/e7ywjv/danish_nato_event...</td>\n",
       "      <td>all_ads</td>\n",
       "      <td>False</td>\n",
       "      <td>https://www.independent.co.uk/news/world/ameri...</td>\n",
       "      <td>22625981</td>\n",
       "      <td>1.575837e+09</td>\n",
       "      <td>3</td>\n",
       "      <td>None</td>\n",
       "      <td>False</td>\n",
       "    </tr>\n",
       "    <tr>\n",
       "      <td>2</td>\n",
       "      <td>None</td>\n",
       "      <td>worldnews</td>\n",
       "      <td></td>\n",
       "      <td>t2_3xiit59l</td>\n",
       "      <td>False</td>\n",
       "      <td>None</td>\n",
       "      <td>0</td>\n",
       "      <td>False</td>\n",
       "      <td>Conservative government giving NHS data to Ama...</td>\n",
       "      <td>[]</td>\n",
       "      <td>...</td>\n",
       "      <td>None</td>\n",
       "      <td>/r/worldnews/comments/e7vpdj/conservative_gove...</td>\n",
       "      <td>all_ads</td>\n",
       "      <td>False</td>\n",
       "      <td>https://www.independent.co.uk/news/health/amaz...</td>\n",
       "      <td>22625981</td>\n",
       "      <td>1.575822e+09</td>\n",
       "      <td>11</td>\n",
       "      <td>None</td>\n",
       "      <td>False</td>\n",
       "    </tr>\n",
       "    <tr>\n",
       "      <td>3</td>\n",
       "      <td>None</td>\n",
       "      <td>worldnews</td>\n",
       "      <td></td>\n",
       "      <td>t2_vaznr</td>\n",
       "      <td>False</td>\n",
       "      <td>None</td>\n",
       "      <td>3</td>\n",
       "      <td>False</td>\n",
       "      <td>Whistleblower goes public after leaked documen...</td>\n",
       "      <td>[]</td>\n",
       "      <td>...</td>\n",
       "      <td>None</td>\n",
       "      <td>/r/worldnews/comments/e7uejk/whistleblower_goe...</td>\n",
       "      <td>all_ads</td>\n",
       "      <td>False</td>\n",
       "      <td>https://news.yahoo.com/whistleblower-goes-publ...</td>\n",
       "      <td>22625981</td>\n",
       "      <td>1.575816e+09</td>\n",
       "      <td>11</td>\n",
       "      <td>None</td>\n",
       "      <td>False</td>\n",
       "    </tr>\n",
       "    <tr>\n",
       "      <td>4</td>\n",
       "      <td>None</td>\n",
       "      <td>worldnews</td>\n",
       "      <td></td>\n",
       "      <td>t2_10yxkw</td>\n",
       "      <td>False</td>\n",
       "      <td>None</td>\n",
       "      <td>0</td>\n",
       "      <td>False</td>\n",
       "      <td>Volcano Erupts on White Island in New Zealand,...</td>\n",
       "      <td>[]</td>\n",
       "      <td>...</td>\n",
       "      <td>None</td>\n",
       "      <td>/r/worldnews/comments/e83gfx/volcano_erupts_on...</td>\n",
       "      <td>all_ads</td>\n",
       "      <td>False</td>\n",
       "      <td>https://www.nzherald.co.nz/bay-of-plenty-times...</td>\n",
       "      <td>22625981</td>\n",
       "      <td>1.575858e+09</td>\n",
       "      <td>0</td>\n",
       "      <td>None</td>\n",
       "      <td>False</td>\n",
       "    </tr>\n",
       "  </tbody>\n",
       "</table>\n",
       "<p>5 rows × 100 columns</p>\n",
       "</div>"
      ],
      "text/plain": [
       "  approved_at_utc  subreddit selftext author_fullname  saved mod_reason_title  \\\n",
       "0            None  worldnews              t2_4ccm762e  False             None   \n",
       "1            None  worldnews               t2_t22xckq  False             None   \n",
       "2            None  worldnews              t2_3xiit59l  False             None   \n",
       "3            None  worldnews                 t2_vaznr  False             None   \n",
       "4            None  worldnews                t2_10yxkw  False             None   \n",
       "\n",
       "   gilded  clicked                                              title  \\\n",
       "0       0    False  Far-Right Terrorism Has Increased 320 Percent ...   \n",
       "1       0    False  Danish NATO event cancelled after US bars Trum...   \n",
       "2       0    False  Conservative government giving NHS data to Ama...   \n",
       "3       3    False  Whistleblower goes public after leaked documen...   \n",
       "4       0    False  Volcano Erupts on White Island in New Zealand,...   \n",
       "\n",
       "  link_flair_richtext  ... author_flair_text_color  \\\n",
       "0                  []  ...                    None   \n",
       "1                  []  ...                    None   \n",
       "2                  []  ...                    None   \n",
       "3                  []  ...                    None   \n",
       "4                  []  ...                    None   \n",
       "\n",
       "                                           permalink  parent_whitelist_status  \\\n",
       "0  /r/worldnews/comments/e81b2r/farright_terroris...                  all_ads   \n",
       "1  /r/worldnews/comments/e7ywjv/danish_nato_event...                  all_ads   \n",
       "2  /r/worldnews/comments/e7vpdj/conservative_gove...                  all_ads   \n",
       "3  /r/worldnews/comments/e7uejk/whistleblower_goe...                  all_ads   \n",
       "4  /r/worldnews/comments/e83gfx/volcano_erupts_on...                  all_ads   \n",
       "\n",
       "  stickied                                                url  \\\n",
       "0    False  https://www.newsweek.com/far-right-terrorism-i...   \n",
       "1    False  https://www.independent.co.uk/news/world/ameri...   \n",
       "2    False  https://www.independent.co.uk/news/health/amaz...   \n",
       "3    False  https://news.yahoo.com/whistleblower-goes-publ...   \n",
       "4    False  https://www.nzherald.co.nz/bay-of-plenty-times...   \n",
       "\n",
       "   subreddit_subscribers   created_utc  num_crossposts media is_video  \n",
       "0               22625981  1.575847e+09               6  None    False  \n",
       "1               22625981  1.575837e+09               3  None    False  \n",
       "2               22625981  1.575822e+09              11  None    False  \n",
       "3               22625981  1.575816e+09              11  None    False  \n",
       "4               22625981  1.575858e+09               0  None    False  \n",
       "\n",
       "[5 rows x 100 columns]"
      ]
     },
     "execution_count": 16,
     "metadata": {},
     "output_type": "execute_result"
    }
   ],
   "source": [
    "pd.DataFrame(world_posts).head()"
   ]
  },
  {
   "cell_type": "markdown",
   "metadata": {},
   "source": [
    "The below cell shows a list of names "
   ]
  },
  {
   "cell_type": "code",
   "execution_count": 17,
   "metadata": {},
   "outputs": [
    {
     "data": {
      "text/plain": [
       "0     t3_e81b2r\n",
       "1     t3_e7ywjv\n",
       "2     t3_e7vpdj\n",
       "3     t3_e7uejk\n",
       "4     t3_e83gfx\n",
       "5     t3_e8573s\n",
       "6     t3_e85t0n\n",
       "7     t3_e7zlp8\n",
       "8     t3_e81rd9\n",
       "9     t3_e85k7s\n",
       "10    t3_e7ssjn\n",
       "11    t3_e86btn\n",
       "12    t3_e7wxme\n",
       "13    t3_e7rtde\n",
       "14    t3_e7xoec\n",
       "15    t3_e80ouv\n",
       "16    t3_e7xm57\n",
       "17    t3_e7y5aq\n",
       "18    t3_e848bf\n",
       "19    t3_e83uxg\n",
       "20    t3_e7wk9y\n",
       "21    t3_e8335q\n",
       "22    t3_e85usi\n",
       "23    t3_e7zfol\n",
       "24    t3_e83twe\n",
       "Name: name, dtype: object"
      ]
     },
     "execution_count": 17,
     "metadata": {},
     "output_type": "execute_result"
    }
   ],
   "source": [
    "pd.DataFrame(world_posts)['name']"
   ]
  },
  {
   "cell_type": "markdown",
   "metadata": {},
   "source": [
    "`sg_dict['data']['after']` will show the last name on the subreddit page."
   ]
  },
  {
   "cell_type": "code",
   "execution_count": 18,
   "metadata": {},
   "outputs": [
    {
     "data": {
      "text/plain": [
       "'t3_e83twe'"
      ]
     },
     "execution_count": 18,
     "metadata": {},
     "output_type": "execute_result"
    }
   ],
   "source": [
    "world_dict['data']['after']"
   ]
  },
  {
   "cell_type": "markdown",
   "metadata": {},
   "source": [
    "###### 4. Create a for loop to collect more posts and save a copy into `.csv` in case something goes wrong in the loop and data won't get lost."
   ]
  },
  {
   "cell_type": "code",
   "execution_count": 19,
   "metadata": {},
   "outputs": [
    {
     "name": "stdout",
     "output_type": "stream",
     "text": [
      "https://www.reddit.com/r/worldnews.json\n",
      "2\n",
      "https://www.reddit.com/r/worldnews.json?after=t3_e83twe\n",
      "1\n",
      "https://www.reddit.com/r/worldnews.json?after=t3_e7wnx1\n",
      "1\n",
      "https://www.reddit.com/r/worldnews.json?after=t3_e7h462\n",
      "3\n",
      "https://www.reddit.com/r/worldnews.json?after=t3_e7sigz\n",
      "2\n",
      "https://www.reddit.com/r/worldnews.json?after=t3_e87hbf\n",
      "1\n",
      "https://www.reddit.com/r/worldnews.json?after=t3_e7td0m\n",
      "2\n",
      "https://www.reddit.com/r/worldnews.json?after=t3_e7r5p7\n",
      "2\n",
      "https://www.reddit.com/r/worldnews.json?after=t3_e7ngkh\n",
      "2\n",
      "https://www.reddit.com/r/worldnews.json?after=t3_e7ouly\n",
      "3\n",
      "https://www.reddit.com/r/worldnews.json?after=t3_e7k1we\n",
      "2\n",
      "https://www.reddit.com/r/worldnews.json?after=t3_e7ewa1\n",
      "3\n",
      "https://www.reddit.com/r/worldnews.json?after=t3_e7jvc6\n",
      "1\n",
      "https://www.reddit.com/r/worldnews.json?after=t3_e7jxs9\n",
      "1\n",
      "https://www.reddit.com/r/worldnews.json?after=t3_e7ji9z\n",
      "2\n",
      "https://www.reddit.com/r/worldnews.json?after=t3_e7hynb\n",
      "2\n",
      "https://www.reddit.com/r/worldnews.json?after=t3_e6wg1f\n",
      "1\n",
      "https://www.reddit.com/r/worldnews.json?after=t3_e7eokg\n",
      "3\n",
      "https://www.reddit.com/r/worldnews.json?after=t3_e7dg1p\n",
      "3\n",
      "https://www.reddit.com/r/worldnews.json?after=t3_e7gc7m\n",
      "2\n",
      "https://www.reddit.com/r/worldnews.json?after=t3_e7fw72\n",
      "3\n",
      "https://www.reddit.com/r/worldnews.json?after=t3_e7bd5t\n",
      "1\n",
      "https://www.reddit.com/r/worldnews.json?after=t3_e6xaix\n",
      "2\n",
      "https://www.reddit.com/r/worldnews.json?after=t3_e70a6u\n",
      "2\n",
      "https://www.reddit.com/r/worldnews.json?after=t3_e72o3s\n",
      "1\n"
     ]
    }
   ],
   "source": [
    "world_posts = []\n",
    "after = None\n",
    "\n",
    "for a in range(25):                    # loop will run for 25 times and load more posts\n",
    "    if after == None:\n",
    "        current_url = world_url\n",
    "    else:\n",
    "        current_url = world_url + '?after=' + after\n",
    "    print(current_url)\n",
    "    response = requests.get(current_url, headers={'User-agent': 'Pony Inc 1.0'})\n",
    "    \n",
    "    if response.status_code != 200:\n",
    "        print('Status error', response.status_code)        # An error will surface if the status_code is not 200\n",
    "        break\n",
    "    \n",
    "    current_dict = response.json()\n",
    "    current_posts = [p['data'] for p in current_dict['data']['children']]\n",
    "    world_posts.extend(current_posts)\n",
    "    after = current_dict['data']['after']\n",
    "\n",
    "    if a > 0:\n",
    "        prev_posts = pd.read_csv('worldnews.csv')\n",
    "        current_df = pd.DataFrame()\n",
    "        \n",
    "    else:\n",
    "        pd.DataFrame(world_posts).to_csv('worldnews.csv', index = False)        # A copy of csv containing the posts will be saved\n",
    "    \n",
    "    sleep_duration = random.randint(1,3)               # The loop will run again to load more post between 1 to 3 seconds\n",
    "    print(sleep_duration) \n",
    "    time.sleep(sleep_duration)                 "
   ]
  },
  {
   "cell_type": "markdown",
   "metadata": {},
   "source": [
    "The total number of posts collected is 625"
   ]
  },
  {
   "cell_type": "code",
   "execution_count": 20,
   "metadata": {},
   "outputs": [
    {
     "data": {
      "text/plain": [
       "625"
      ]
     },
     "execution_count": 20,
     "metadata": {},
     "output_type": "execute_result"
    }
   ],
   "source": [
    "len(world_posts)"
   ]
  },
  {
   "cell_type": "markdown",
   "metadata": {},
   "source": [
    "###### 5. Assign the new data into a variable and save a copy as `.csv`"
   ]
  },
  {
   "cell_type": "code",
   "execution_count": 21,
   "metadata": {},
   "outputs": [],
   "source": [
    "world_train = pd.DataFrame(world_posts)"
   ]
  },
  {
   "cell_type": "code",
   "execution_count": 22,
   "metadata": {},
   "outputs": [],
   "source": [
    "world_train.to_csv('world_train.csv', index = False)"
   ]
  },
  {
   "cell_type": "markdown",
   "metadata": {},
   "source": [
    "## Webscraping and Preparation of the 2nd subreddit"
   ]
  },
  {
   "cell_type": "markdown",
   "metadata": {},
   "source": [
    "###### 1. Input URL, requests.get and check status_code if there is any error"
   ]
  },
  {
   "cell_type": "code",
   "execution_count": 23,
   "metadata": {},
   "outputs": [],
   "source": [
    "today_url = 'https://www.reddit.com/r/todayilearned.json'"
   ]
  },
  {
   "cell_type": "code",
   "execution_count": 24,
   "metadata": {},
   "outputs": [],
   "source": [
    "today_response = requests.get(today_url, headers={'User-agent': 'Pony Inc 1.0'})"
   ]
  },
  {
   "cell_type": "code",
   "execution_count": 25,
   "metadata": {},
   "outputs": [
    {
     "data": {
      "text/plain": [
       "200"
      ]
     },
     "execution_count": 25,
     "metadata": {},
     "output_type": "execute_result"
    }
   ],
   "source": [
    "today_response.status_code"
   ]
  },
  {
   "cell_type": "markdown",
   "metadata": {},
   "source": [
    "###### 2. Convert into dictionary using `.json()` and identify keys using `.keys()`"
   ]
  },
  {
   "cell_type": "code",
   "execution_count": 26,
   "metadata": {},
   "outputs": [],
   "source": [
    "today_dict = today_response.json()"
   ]
  },
  {
   "cell_type": "code",
   "execution_count": 27,
   "metadata": {},
   "outputs": [
    {
     "data": {
      "text/plain": [
       "dict_keys(['kind', 'data'])"
      ]
     },
     "execution_count": 27,
     "metadata": {},
     "output_type": "execute_result"
    }
   ],
   "source": [
    "today_dict.keys()"
   ]
  },
  {
   "cell_type": "code",
   "execution_count": 28,
   "metadata": {},
   "outputs": [
    {
     "data": {
      "text/plain": [
       "dict_keys(['modhash', 'dist', 'children', 'after', 'before'])"
      ]
     },
     "execution_count": 28,
     "metadata": {},
     "output_type": "execute_result"
    }
   ],
   "source": [
    "today_dict['data'].keys()"
   ]
  },
  {
   "cell_type": "markdown",
   "metadata": {},
   "source": [
    "Identify how many posts are there in the first page of the subreddit and there should be 25 of it."
   ]
  },
  {
   "cell_type": "markdown",
   "metadata": {},
   "source": [
    "The following cells below shows all the information for the first post on the subreddit."
   ]
  },
  {
   "cell_type": "code",
   "execution_count": 29,
   "metadata": {},
   "outputs": [
    {
     "data": {
      "text/plain": [
       "25"
      ]
     },
     "execution_count": 29,
     "metadata": {},
     "output_type": "execute_result"
    }
   ],
   "source": [
    "len(today_dict['data']['children'])"
   ]
  },
  {
   "cell_type": "code",
   "execution_count": 30,
   "metadata": {},
   "outputs": [
    {
     "data": {
      "text/plain": [
       "{'kind': 't3',\n",
       " 'data': {'approved_at_utc': None,\n",
       "  'subreddit': 'todayilearned',\n",
       "  'selftext': '',\n",
       "  'author_fullname': 't2_3rjktver',\n",
       "  'saved': False,\n",
       "  'mod_reason_title': None,\n",
       "  'gilded': 0,\n",
       "  'clicked': False,\n",
       "  'title': 'TIL that, in 1954, Betty White was criticized for having Arthur Duncan, a black performer, on her show. When the show went national, affiliates from southern states complained and Betty said \"I\\'m sorry. Live with it\" and gave Duncan more airtime. The show was soon cancelled.',\n",
       "  'link_flair_richtext': [],\n",
       "  'subreddit_name_prefixed': 'r/todayilearned',\n",
       "  'hidden': False,\n",
       "  'pwls': 6,\n",
       "  'link_flair_css_class': None,\n",
       "  'downs': 0,\n",
       "  'thumbnail_height': 140,\n",
       "  'hide_score': False,\n",
       "  'name': 't3_e85425',\n",
       "  'quarantine': False,\n",
       "  'link_flair_text_color': 'dark',\n",
       "  'author_flair_background_color': None,\n",
       "  'subreddit_type': 'public',\n",
       "  'ups': 17726,\n",
       "  'total_awards_received': 0,\n",
       "  'media_embed': {},\n",
       "  'thumbnail_width': 140,\n",
       "  'author_flair_template_id': None,\n",
       "  'is_original_content': False,\n",
       "  'user_reports': [],\n",
       "  'secure_media': None,\n",
       "  'is_reddit_media_domain': False,\n",
       "  'is_meta': False,\n",
       "  'category': None,\n",
       "  'secure_media_embed': {},\n",
       "  'link_flair_text': None,\n",
       "  'can_mod_post': False,\n",
       "  'score': 17726,\n",
       "  'approved_by': None,\n",
       "  'author_premium': False,\n",
       "  'thumbnail': 'https://b.thumbs.redditmedia.com/oIk6A9dAuxSLnAe7I2Tgw59DonPk4lYWjww3UHU7vLM.jpg',\n",
       "  'edited': False,\n",
       "  'author_flair_css_class': None,\n",
       "  'steward_reports': [],\n",
       "  'author_flair_richtext': [],\n",
       "  'gildings': {},\n",
       "  'post_hint': 'link',\n",
       "  'content_categories': None,\n",
       "  'is_self': False,\n",
       "  'mod_note': None,\n",
       "  'created': 1575895301.0,\n",
       "  'link_flair_type': 'text',\n",
       "  'wls': 6,\n",
       "  'removed_by_category': None,\n",
       "  'banned_by': None,\n",
       "  'author_flair_type': 'text',\n",
       "  'domain': 'en.wikipedia.org',\n",
       "  'allow_live_comments': True,\n",
       "  'selftext_html': None,\n",
       "  'likes': None,\n",
       "  'suggested_sort': None,\n",
       "  'banned_at_utc': None,\n",
       "  'view_count': None,\n",
       "  'archived': False,\n",
       "  'no_follow': False,\n",
       "  'is_crosspostable': False,\n",
       "  'pinned': False,\n",
       "  'over_18': False,\n",
       "  'preview': {'images': [{'source': {'url': 'https://external-preview.redd.it/vl0ax4bg7mbM4CbeYWSGUTJmZOG4g7IzZhoKqQD4cZs.jpg?auto=webp&amp;s=26646dc6037a5b2cd853b5cb358fe55442728a58',\n",
       "      'width': 220,\n",
       "      'height': 280},\n",
       "     'resolutions': [{'url': 'https://external-preview.redd.it/vl0ax4bg7mbM4CbeYWSGUTJmZOG4g7IzZhoKqQD4cZs.jpg?width=108&amp;crop=smart&amp;auto=webp&amp;s=f67dc07b027bc8fd5a756aa0c2be590a3838f9ff',\n",
       "       'width': 108,\n",
       "       'height': 137},\n",
       "      {'url': 'https://external-preview.redd.it/vl0ax4bg7mbM4CbeYWSGUTJmZOG4g7IzZhoKqQD4cZs.jpg?width=216&amp;crop=smart&amp;auto=webp&amp;s=9313380b30455514a630ec400cd1848cf5fa17a0',\n",
       "       'width': 216,\n",
       "       'height': 274}],\n",
       "     'variants': {},\n",
       "     'id': 'dfFz4cO5TpIEpFkQSHXhSxixGi_tLsbHl8DlK9ZGUds'}],\n",
       "   'enabled': False},\n",
       "  'all_awardings': [],\n",
       "  'awarders': [],\n",
       "  'media_only': False,\n",
       "  'can_gild': False,\n",
       "  'spoiler': False,\n",
       "  'locked': False,\n",
       "  'author_flair_text': None,\n",
       "  'visited': False,\n",
       "  'removed_by': None,\n",
       "  'num_reports': None,\n",
       "  'distinguished': None,\n",
       "  'subreddit_id': 't5_2qqjc',\n",
       "  'mod_reason_by': None,\n",
       "  'removal_reason': None,\n",
       "  'link_flair_background_color': '',\n",
       "  'id': 'e85425',\n",
       "  'is_robot_indexable': True,\n",
       "  'report_reasons': None,\n",
       "  'author': 'MyWifeLikesAsianCock',\n",
       "  'discussion_type': None,\n",
       "  'num_comments': 407,\n",
       "  'send_replies': True,\n",
       "  'whitelist_status': 'all_ads',\n",
       "  'contest_mode': False,\n",
       "  'mod_reports': [],\n",
       "  'author_patreon_flair': False,\n",
       "  'author_flair_text_color': None,\n",
       "  'permalink': '/r/todayilearned/comments/e85425/til_that_in_1954_betty_white_was_criticized_for/',\n",
       "  'parent_whitelist_status': 'all_ads',\n",
       "  'stickied': False,\n",
       "  'url': 'https://en.wikipedia.org/wiki/Betty_White',\n",
       "  'subreddit_subscribers': 21846303,\n",
       "  'created_utc': 1575866501.0,\n",
       "  'num_crossposts': 2,\n",
       "  'media': None,\n",
       "  'is_video': False}}"
      ]
     },
     "execution_count": 30,
     "metadata": {},
     "output_type": "execute_result"
    }
   ],
   "source": [
    "today_dict['data']['children'][0]"
   ]
  },
  {
   "cell_type": "code",
   "execution_count": 31,
   "metadata": {},
   "outputs": [
    {
     "data": {
      "text/plain": [
       "dict_keys(['kind', 'data'])"
      ]
     },
     "execution_count": 31,
     "metadata": {},
     "output_type": "execute_result"
    }
   ],
   "source": [
    "today_dict['data']['children'][0].keys()"
   ]
  },
  {
   "cell_type": "code",
   "execution_count": 32,
   "metadata": {},
   "outputs": [
    {
     "data": {
      "text/plain": [
       "'t3'"
      ]
     },
     "execution_count": 32,
     "metadata": {},
     "output_type": "execute_result"
    }
   ],
   "source": [
    "today_dict['data']['children'][0]['kind']"
   ]
  },
  {
   "cell_type": "code",
   "execution_count": 33,
   "metadata": {},
   "outputs": [
    {
     "data": {
      "text/plain": [
       "{'approved_at_utc': None,\n",
       " 'subreddit': 'todayilearned',\n",
       " 'selftext': '',\n",
       " 'author_fullname': 't2_3rjktver',\n",
       " 'saved': False,\n",
       " 'mod_reason_title': None,\n",
       " 'gilded': 0,\n",
       " 'clicked': False,\n",
       " 'title': 'TIL that, in 1954, Betty White was criticized for having Arthur Duncan, a black performer, on her show. When the show went national, affiliates from southern states complained and Betty said \"I\\'m sorry. Live with it\" and gave Duncan more airtime. The show was soon cancelled.',\n",
       " 'link_flair_richtext': [],\n",
       " 'subreddit_name_prefixed': 'r/todayilearned',\n",
       " 'hidden': False,\n",
       " 'pwls': 6,\n",
       " 'link_flair_css_class': None,\n",
       " 'downs': 0,\n",
       " 'thumbnail_height': 140,\n",
       " 'hide_score': False,\n",
       " 'name': 't3_e85425',\n",
       " 'quarantine': False,\n",
       " 'link_flair_text_color': 'dark',\n",
       " 'author_flair_background_color': None,\n",
       " 'subreddit_type': 'public',\n",
       " 'ups': 17726,\n",
       " 'total_awards_received': 0,\n",
       " 'media_embed': {},\n",
       " 'thumbnail_width': 140,\n",
       " 'author_flair_template_id': None,\n",
       " 'is_original_content': False,\n",
       " 'user_reports': [],\n",
       " 'secure_media': None,\n",
       " 'is_reddit_media_domain': False,\n",
       " 'is_meta': False,\n",
       " 'category': None,\n",
       " 'secure_media_embed': {},\n",
       " 'link_flair_text': None,\n",
       " 'can_mod_post': False,\n",
       " 'score': 17726,\n",
       " 'approved_by': None,\n",
       " 'author_premium': False,\n",
       " 'thumbnail': 'https://b.thumbs.redditmedia.com/oIk6A9dAuxSLnAe7I2Tgw59DonPk4lYWjww3UHU7vLM.jpg',\n",
       " 'edited': False,\n",
       " 'author_flair_css_class': None,\n",
       " 'steward_reports': [],\n",
       " 'author_flair_richtext': [],\n",
       " 'gildings': {},\n",
       " 'post_hint': 'link',\n",
       " 'content_categories': None,\n",
       " 'is_self': False,\n",
       " 'mod_note': None,\n",
       " 'created': 1575895301.0,\n",
       " 'link_flair_type': 'text',\n",
       " 'wls': 6,\n",
       " 'removed_by_category': None,\n",
       " 'banned_by': None,\n",
       " 'author_flair_type': 'text',\n",
       " 'domain': 'en.wikipedia.org',\n",
       " 'allow_live_comments': True,\n",
       " 'selftext_html': None,\n",
       " 'likes': None,\n",
       " 'suggested_sort': None,\n",
       " 'banned_at_utc': None,\n",
       " 'view_count': None,\n",
       " 'archived': False,\n",
       " 'no_follow': False,\n",
       " 'is_crosspostable': False,\n",
       " 'pinned': False,\n",
       " 'over_18': False,\n",
       " 'preview': {'images': [{'source': {'url': 'https://external-preview.redd.it/vl0ax4bg7mbM4CbeYWSGUTJmZOG4g7IzZhoKqQD4cZs.jpg?auto=webp&amp;s=26646dc6037a5b2cd853b5cb358fe55442728a58',\n",
       "     'width': 220,\n",
       "     'height': 280},\n",
       "    'resolutions': [{'url': 'https://external-preview.redd.it/vl0ax4bg7mbM4CbeYWSGUTJmZOG4g7IzZhoKqQD4cZs.jpg?width=108&amp;crop=smart&amp;auto=webp&amp;s=f67dc07b027bc8fd5a756aa0c2be590a3838f9ff',\n",
       "      'width': 108,\n",
       "      'height': 137},\n",
       "     {'url': 'https://external-preview.redd.it/vl0ax4bg7mbM4CbeYWSGUTJmZOG4g7IzZhoKqQD4cZs.jpg?width=216&amp;crop=smart&amp;auto=webp&amp;s=9313380b30455514a630ec400cd1848cf5fa17a0',\n",
       "      'width': 216,\n",
       "      'height': 274}],\n",
       "    'variants': {},\n",
       "    'id': 'dfFz4cO5TpIEpFkQSHXhSxixGi_tLsbHl8DlK9ZGUds'}],\n",
       "  'enabled': False},\n",
       " 'all_awardings': [],\n",
       " 'awarders': [],\n",
       " 'media_only': False,\n",
       " 'can_gild': False,\n",
       " 'spoiler': False,\n",
       " 'locked': False,\n",
       " 'author_flair_text': None,\n",
       " 'visited': False,\n",
       " 'removed_by': None,\n",
       " 'num_reports': None,\n",
       " 'distinguished': None,\n",
       " 'subreddit_id': 't5_2qqjc',\n",
       " 'mod_reason_by': None,\n",
       " 'removal_reason': None,\n",
       " 'link_flair_background_color': '',\n",
       " 'id': 'e85425',\n",
       " 'is_robot_indexable': True,\n",
       " 'report_reasons': None,\n",
       " 'author': 'MyWifeLikesAsianCock',\n",
       " 'discussion_type': None,\n",
       " 'num_comments': 407,\n",
       " 'send_replies': True,\n",
       " 'whitelist_status': 'all_ads',\n",
       " 'contest_mode': False,\n",
       " 'mod_reports': [],\n",
       " 'author_patreon_flair': False,\n",
       " 'author_flair_text_color': None,\n",
       " 'permalink': '/r/todayilearned/comments/e85425/til_that_in_1954_betty_white_was_criticized_for/',\n",
       " 'parent_whitelist_status': 'all_ads',\n",
       " 'stickied': False,\n",
       " 'url': 'https://en.wikipedia.org/wiki/Betty_White',\n",
       " 'subreddit_subscribers': 21846303,\n",
       " 'created_utc': 1575866501.0,\n",
       " 'num_crossposts': 2,\n",
       " 'media': None,\n",
       " 'is_video': False}"
      ]
     },
     "execution_count": 33,
     "metadata": {},
     "output_type": "execute_result"
    }
   ],
   "source": [
    "today_dict['data']['children'][0]['data']"
   ]
  },
  {
   "cell_type": "code",
   "execution_count": 34,
   "metadata": {},
   "outputs": [
    {
     "data": {
      "text/plain": [
       "'todayilearned'"
      ]
     },
     "execution_count": 34,
     "metadata": {},
     "output_type": "execute_result"
    }
   ],
   "source": [
    "today_dict['data']['children'][0]['data']['subreddit']"
   ]
  },
  {
   "cell_type": "code",
   "execution_count": 35,
   "metadata": {},
   "outputs": [
    {
     "data": {
      "text/plain": [
       "'TIL that, in 1954, Betty White was criticized for having Arthur Duncan, a black performer, on her show. When the show went national, affiliates from southern states complained and Betty said \"I\\'m sorry. Live with it\" and gave Duncan more airtime. The show was soon cancelled.'"
      ]
     },
     "execution_count": 35,
     "metadata": {},
     "output_type": "execute_result"
    }
   ],
   "source": [
    "today_dict['data']['children'][0]['data']['title']"
   ]
  },
  {
   "cell_type": "markdown",
   "metadata": {},
   "source": [
    "###### 3. Convert all the data into a `DataFrame`"
   ]
  },
  {
   "cell_type": "code",
   "execution_count": 36,
   "metadata": {},
   "outputs": [],
   "source": [
    "today_posts = [p['data'] for p in today_dict['data']['children']]"
   ]
  },
  {
   "cell_type": "code",
   "execution_count": 37,
   "metadata": {},
   "outputs": [
    {
     "data": {
      "text/html": [
       "<div>\n",
       "<style scoped>\n",
       "    .dataframe tbody tr th:only-of-type {\n",
       "        vertical-align: middle;\n",
       "    }\n",
       "\n",
       "    .dataframe tbody tr th {\n",
       "        vertical-align: top;\n",
       "    }\n",
       "\n",
       "    .dataframe thead th {\n",
       "        text-align: right;\n",
       "    }\n",
       "</style>\n",
       "<table border=\"1\" class=\"dataframe\">\n",
       "  <thead>\n",
       "    <tr style=\"text-align: right;\">\n",
       "      <th></th>\n",
       "      <th>approved_at_utc</th>\n",
       "      <th>subreddit</th>\n",
       "      <th>selftext</th>\n",
       "      <th>author_fullname</th>\n",
       "      <th>saved</th>\n",
       "      <th>mod_reason_title</th>\n",
       "      <th>gilded</th>\n",
       "      <th>clicked</th>\n",
       "      <th>title</th>\n",
       "      <th>link_flair_richtext</th>\n",
       "      <th>...</th>\n",
       "      <th>permalink</th>\n",
       "      <th>parent_whitelist_status</th>\n",
       "      <th>stickied</th>\n",
       "      <th>url</th>\n",
       "      <th>subreddit_subscribers</th>\n",
       "      <th>created_utc</th>\n",
       "      <th>num_crossposts</th>\n",
       "      <th>media</th>\n",
       "      <th>is_video</th>\n",
       "      <th>author_cakeday</th>\n",
       "    </tr>\n",
       "  </thead>\n",
       "  <tbody>\n",
       "    <tr>\n",
       "      <td>0</td>\n",
       "      <td>None</td>\n",
       "      <td>todayilearned</td>\n",
       "      <td></td>\n",
       "      <td>t2_3rjktver</td>\n",
       "      <td>False</td>\n",
       "      <td>None</td>\n",
       "      <td>0</td>\n",
       "      <td>False</td>\n",
       "      <td>TIL that, in 1954, Betty White was criticized ...</td>\n",
       "      <td>[]</td>\n",
       "      <td>...</td>\n",
       "      <td>/r/todayilearned/comments/e85425/til_that_in_1...</td>\n",
       "      <td>all_ads</td>\n",
       "      <td>False</td>\n",
       "      <td>https://en.wikipedia.org/wiki/Betty_White</td>\n",
       "      <td>21846303</td>\n",
       "      <td>1.575867e+09</td>\n",
       "      <td>2</td>\n",
       "      <td>None</td>\n",
       "      <td>False</td>\n",
       "      <td>NaN</td>\n",
       "    </tr>\n",
       "    <tr>\n",
       "      <td>1</td>\n",
       "      <td>None</td>\n",
       "      <td>todayilearned</td>\n",
       "      <td></td>\n",
       "      <td>t2_4azmqlxh</td>\n",
       "      <td>False</td>\n",
       "      <td>None</td>\n",
       "      <td>2</td>\n",
       "      <td>False</td>\n",
       "      <td>TIL that rapper Tech N9ne picks up bras that w...</td>\n",
       "      <td>[]</td>\n",
       "      <td>...</td>\n",
       "      <td>/r/todayilearned/comments/e81x3k/til_that_rapp...</td>\n",
       "      <td>all_ads</td>\n",
       "      <td>False</td>\n",
       "      <td>https://www.xxlmag.com/news/2016/01/tech-n9ne-...</td>\n",
       "      <td>21846303</td>\n",
       "      <td>1.575850e+09</td>\n",
       "      <td>8</td>\n",
       "      <td>None</td>\n",
       "      <td>False</td>\n",
       "      <td>NaN</td>\n",
       "    </tr>\n",
       "    <tr>\n",
       "      <td>2</td>\n",
       "      <td>None</td>\n",
       "      <td>todayilearned</td>\n",
       "      <td></td>\n",
       "      <td>t2_9amwg</td>\n",
       "      <td>False</td>\n",
       "      <td>None</td>\n",
       "      <td>0</td>\n",
       "      <td>False</td>\n",
       "      <td>TIL that Dolly Parton's family was so poor tha...</td>\n",
       "      <td>[]</td>\n",
       "      <td>...</td>\n",
       "      <td>/r/todayilearned/comments/e80xrh/til_that_doll...</td>\n",
       "      <td>all_ads</td>\n",
       "      <td>False</td>\n",
       "      <td>https://www.rollingstone.com/music/music-featu...</td>\n",
       "      <td>21846303</td>\n",
       "      <td>1.575846e+09</td>\n",
       "      <td>2</td>\n",
       "      <td>None</td>\n",
       "      <td>False</td>\n",
       "      <td>NaN</td>\n",
       "    </tr>\n",
       "    <tr>\n",
       "      <td>3</td>\n",
       "      <td>None</td>\n",
       "      <td>todayilearned</td>\n",
       "      <td></td>\n",
       "      <td>t2_10gswqiq</td>\n",
       "      <td>False</td>\n",
       "      <td>None</td>\n",
       "      <td>0</td>\n",
       "      <td>False</td>\n",
       "      <td>TIL that in a Roman hospital doctors used to h...</td>\n",
       "      <td>[]</td>\n",
       "      <td>...</td>\n",
       "      <td>/r/todayilearned/comments/e7zldb/til_that_in_a...</td>\n",
       "      <td>all_ads</td>\n",
       "      <td>False</td>\n",
       "      <td>https://www.historytoday.com/history-matters/k...</td>\n",
       "      <td>21846303</td>\n",
       "      <td>1.575840e+09</td>\n",
       "      <td>3</td>\n",
       "      <td>None</td>\n",
       "      <td>False</td>\n",
       "      <td>NaN</td>\n",
       "    </tr>\n",
       "    <tr>\n",
       "      <td>4</td>\n",
       "      <td>None</td>\n",
       "      <td>todayilearned</td>\n",
       "      <td></td>\n",
       "      <td>t2_u19t6</td>\n",
       "      <td>False</td>\n",
       "      <td>None</td>\n",
       "      <td>0</td>\n",
       "      <td>False</td>\n",
       "      <td>TIL that an Iraqi man slept through the invasi...</td>\n",
       "      <td>[]</td>\n",
       "      <td>...</td>\n",
       "      <td>/r/todayilearned/comments/e7xrte/til_that_an_i...</td>\n",
       "      <td>all_ads</td>\n",
       "      <td>False</td>\n",
       "      <td>https://www.vice.com/en_us/article/7xjq5g/this...</td>\n",
       "      <td>21846303</td>\n",
       "      <td>1.575832e+09</td>\n",
       "      <td>8</td>\n",
       "      <td>None</td>\n",
       "      <td>False</td>\n",
       "      <td>NaN</td>\n",
       "    </tr>\n",
       "    <tr>\n",
       "      <td>5</td>\n",
       "      <td>None</td>\n",
       "      <td>todayilearned</td>\n",
       "      <td></td>\n",
       "      <td>t2_vfe99</td>\n",
       "      <td>False</td>\n",
       "      <td>None</td>\n",
       "      <td>0</td>\n",
       "      <td>False</td>\n",
       "      <td>TIL the urban legend of Atari burying hundreds...</td>\n",
       "      <td>[]</td>\n",
       "      <td>...</td>\n",
       "      <td>/r/todayilearned/comments/e7we9f/til_the_urban...</td>\n",
       "      <td>all_ads</td>\n",
       "      <td>False</td>\n",
       "      <td>https://www.cnet.com/news/success-atari-e-t-ga...</td>\n",
       "      <td>21846303</td>\n",
       "      <td>1.575826e+09</td>\n",
       "      <td>3</td>\n",
       "      <td>None</td>\n",
       "      <td>False</td>\n",
       "      <td>NaN</td>\n",
       "    </tr>\n",
       "    <tr>\n",
       "      <td>6</td>\n",
       "      <td>None</td>\n",
       "      <td>todayilearned</td>\n",
       "      <td></td>\n",
       "      <td>t2_3wc78</td>\n",
       "      <td>False</td>\n",
       "      <td>None</td>\n",
       "      <td>0</td>\n",
       "      <td>False</td>\n",
       "      <td>TIL that the most expensive hot dog at an MLB ...</td>\n",
       "      <td>[]</td>\n",
       "      <td>...</td>\n",
       "      <td>/r/todayilearned/comments/e84gar/til_that_the_...</td>\n",
       "      <td>all_ads</td>\n",
       "      <td>False</td>\n",
       "      <td>https://www.statista.com/statistics/202743/hot...</td>\n",
       "      <td>21846303</td>\n",
       "      <td>1.575863e+09</td>\n",
       "      <td>2</td>\n",
       "      <td>None</td>\n",
       "      <td>False</td>\n",
       "      <td>NaN</td>\n",
       "    </tr>\n",
       "    <tr>\n",
       "      <td>7</td>\n",
       "      <td>None</td>\n",
       "      <td>todayilearned</td>\n",
       "      <td></td>\n",
       "      <td>t2_48c5510</td>\n",
       "      <td>False</td>\n",
       "      <td>None</td>\n",
       "      <td>0</td>\n",
       "      <td>False</td>\n",
       "      <td>TIL a golden chamber buried under a mountain i...</td>\n",
       "      <td>[]</td>\n",
       "      <td>...</td>\n",
       "      <td>/r/todayilearned/comments/e7ulrs/til_a_golden_...</td>\n",
       "      <td>all_ads</td>\n",
       "      <td>False</td>\n",
       "      <td>https://www.businessinsider.com/super-kamiokan...</td>\n",
       "      <td>21846303</td>\n",
       "      <td>1.575817e+09</td>\n",
       "      <td>4</td>\n",
       "      <td>None</td>\n",
       "      <td>False</td>\n",
       "      <td>NaN</td>\n",
       "    </tr>\n",
       "    <tr>\n",
       "      <td>8</td>\n",
       "      <td>None</td>\n",
       "      <td>todayilearned</td>\n",
       "      <td></td>\n",
       "      <td>t2_h284k</td>\n",
       "      <td>False</td>\n",
       "      <td>None</td>\n",
       "      <td>0</td>\n",
       "      <td>False</td>\n",
       "      <td>TIL That in 1991 Paul Reubens (Pee Wee Herman)...</td>\n",
       "      <td>[]</td>\n",
       "      <td>...</td>\n",
       "      <td>/r/todayilearned/comments/e7txlh/til_that_in_1...</td>\n",
       "      <td>all_ads</td>\n",
       "      <td>False</td>\n",
       "      <td>https://en.wikipedia.org/wiki/Pee-wee_Herman#R...</td>\n",
       "      <td>21846303</td>\n",
       "      <td>1.575813e+09</td>\n",
       "      <td>2</td>\n",
       "      <td>None</td>\n",
       "      <td>False</td>\n",
       "      <td>NaN</td>\n",
       "    </tr>\n",
       "    <tr>\n",
       "      <td>9</td>\n",
       "      <td>None</td>\n",
       "      <td>todayilearned</td>\n",
       "      <td></td>\n",
       "      <td>t2_2ggohkh8</td>\n",
       "      <td>False</td>\n",
       "      <td>None</td>\n",
       "      <td>0</td>\n",
       "      <td>False</td>\n",
       "      <td>TIL that in Spearfish, South Dakota on January...</td>\n",
       "      <td>[]</td>\n",
       "      <td>...</td>\n",
       "      <td>/r/todayilearned/comments/e7u6a0/til_that_in_s...</td>\n",
       "      <td>all_ads</td>\n",
       "      <td>False</td>\n",
       "      <td>https://www.weathernationtv.com/news/day-spear...</td>\n",
       "      <td>21846303</td>\n",
       "      <td>1.575815e+09</td>\n",
       "      <td>1</td>\n",
       "      <td>None</td>\n",
       "      <td>False</td>\n",
       "      <td>NaN</td>\n",
       "    </tr>\n",
       "    <tr>\n",
       "      <td>10</td>\n",
       "      <td>None</td>\n",
       "      <td>todayilearned</td>\n",
       "      <td></td>\n",
       "      <td>t2_mgj4z8r</td>\n",
       "      <td>False</td>\n",
       "      <td>None</td>\n",
       "      <td>0</td>\n",
       "      <td>False</td>\n",
       "      <td>TIL a dead 13-foot shark, floating in a tank o...</td>\n",
       "      <td>[]</td>\n",
       "      <td>...</td>\n",
       "      <td>/r/todayilearned/comments/e85zp9/til_a_dead_13...</td>\n",
       "      <td>all_ads</td>\n",
       "      <td>False</td>\n",
       "      <td>https://www.vice.com/en_us/article/bjqje4/this...</td>\n",
       "      <td>21846303</td>\n",
       "      <td>1.575871e+09</td>\n",
       "      <td>0</td>\n",
       "      <td>None</td>\n",
       "      <td>False</td>\n",
       "      <td>NaN</td>\n",
       "    </tr>\n",
       "    <tr>\n",
       "      <td>11</td>\n",
       "      <td>None</td>\n",
       "      <td>todayilearned</td>\n",
       "      <td></td>\n",
       "      <td>t2_3sgd8g23</td>\n",
       "      <td>False</td>\n",
       "      <td>None</td>\n",
       "      <td>0</td>\n",
       "      <td>False</td>\n",
       "      <td>TIL, Joseph Beyrle, an American Paratrooper, f...</td>\n",
       "      <td>[]</td>\n",
       "      <td>...</td>\n",
       "      <td>/r/todayilearned/comments/e7t0dj/til_joseph_be...</td>\n",
       "      <td>all_ads</td>\n",
       "      <td>False</td>\n",
       "      <td>https://en.wikipedia.org/wiki/Joseph_Beyrle</td>\n",
       "      <td>21846303</td>\n",
       "      <td>1.575807e+09</td>\n",
       "      <td>2</td>\n",
       "      <td>None</td>\n",
       "      <td>False</td>\n",
       "      <td>NaN</td>\n",
       "    </tr>\n",
       "    <tr>\n",
       "      <td>12</td>\n",
       "      <td>None</td>\n",
       "      <td>todayilearned</td>\n",
       "      <td></td>\n",
       "      <td>t2_534f9e0m</td>\n",
       "      <td>False</td>\n",
       "      <td>None</td>\n",
       "      <td>0</td>\n",
       "      <td>False</td>\n",
       "      <td>TIL that even though they shared the role of M...</td>\n",
       "      <td>[]</td>\n",
       "      <td>...</td>\n",
       "      <td>/r/todayilearned/comments/e7vhf2/til_that_even...</td>\n",
       "      <td>all_ads</td>\n",
       "      <td>False</td>\n",
       "      <td>https://en.wikipedia.org/wiki/Mary-Kate_and_As...</td>\n",
       "      <td>21846303</td>\n",
       "      <td>1.575821e+09</td>\n",
       "      <td>1</td>\n",
       "      <td>None</td>\n",
       "      <td>False</td>\n",
       "      <td>NaN</td>\n",
       "    </tr>\n",
       "    <tr>\n",
       "      <td>13</td>\n",
       "      <td>None</td>\n",
       "      <td>todayilearned</td>\n",
       "      <td></td>\n",
       "      <td>t2_pko0t</td>\n",
       "      <td>False</td>\n",
       "      <td>None</td>\n",
       "      <td>0</td>\n",
       "      <td>False</td>\n",
       "      <td>TIL Lego didn't invent interlocking bricks, th...</td>\n",
       "      <td>[]</td>\n",
       "      <td>...</td>\n",
       "      <td>/r/todayilearned/comments/e7z50t/til_lego_didn...</td>\n",
       "      <td>all_ads</td>\n",
       "      <td>False</td>\n",
       "      <td>https://en.wikipedia.org/wiki/Lego_timeline</td>\n",
       "      <td>21846303</td>\n",
       "      <td>1.575838e+09</td>\n",
       "      <td>1</td>\n",
       "      <td>None</td>\n",
       "      <td>False</td>\n",
       "      <td>NaN</td>\n",
       "    </tr>\n",
       "    <tr>\n",
       "      <td>14</td>\n",
       "      <td>None</td>\n",
       "      <td>todayilearned</td>\n",
       "      <td></td>\n",
       "      <td>t2_43bcbu2m</td>\n",
       "      <td>False</td>\n",
       "      <td>None</td>\n",
       "      <td>0</td>\n",
       "      <td>False</td>\n",
       "      <td>TIL that Since 1979, Jadav Payeng aka The Fore...</td>\n",
       "      <td>[]</td>\n",
       "      <td>...</td>\n",
       "      <td>/r/todayilearned/comments/e85l04/til_that_sinc...</td>\n",
       "      <td>all_ads</td>\n",
       "      <td>False</td>\n",
       "      <td>https://rakoza.com/a-lifetime-of-planting-tree...</td>\n",
       "      <td>21846303</td>\n",
       "      <td>1.575869e+09</td>\n",
       "      <td>0</td>\n",
       "      <td>None</td>\n",
       "      <td>False</td>\n",
       "      <td>NaN</td>\n",
       "    </tr>\n",
       "    <tr>\n",
       "      <td>15</td>\n",
       "      <td>None</td>\n",
       "      <td>todayilearned</td>\n",
       "      <td></td>\n",
       "      <td>t2_12himl</td>\n",
       "      <td>False</td>\n",
       "      <td>None</td>\n",
       "      <td>0</td>\n",
       "      <td>False</td>\n",
       "      <td>TIL Wisconsin has 10 of the top 20 Drunkest Ci...</td>\n",
       "      <td>[]</td>\n",
       "      <td>...</td>\n",
       "      <td>/r/todayilearned/comments/e826wx/til_wisconsin...</td>\n",
       "      <td>all_ads</td>\n",
       "      <td>False</td>\n",
       "      <td>https://www.usatoday.com/story/money/food/2018...</td>\n",
       "      <td>21846303</td>\n",
       "      <td>1.575852e+09</td>\n",
       "      <td>1</td>\n",
       "      <td>None</td>\n",
       "      <td>False</td>\n",
       "      <td>NaN</td>\n",
       "    </tr>\n",
       "    <tr>\n",
       "      <td>16</td>\n",
       "      <td>None</td>\n",
       "      <td>todayilearned</td>\n",
       "      <td></td>\n",
       "      <td>t2_s5wa1</td>\n",
       "      <td>False</td>\n",
       "      <td>None</td>\n",
       "      <td>0</td>\n",
       "      <td>False</td>\n",
       "      <td>TIL That the coldest temperature recorded was ...</td>\n",
       "      <td>[]</td>\n",
       "      <td>...</td>\n",
       "      <td>/r/todayilearned/comments/e7qiyw/til_that_the_...</td>\n",
       "      <td>all_ads</td>\n",
       "      <td>False</td>\n",
       "      <td>https://www.nationalgeographic.com/news/2018/0...</td>\n",
       "      <td>21846303</td>\n",
       "      <td>1.575787e+09</td>\n",
       "      <td>9</td>\n",
       "      <td>None</td>\n",
       "      <td>False</td>\n",
       "      <td>NaN</td>\n",
       "    </tr>\n",
       "    <tr>\n",
       "      <td>17</td>\n",
       "      <td>None</td>\n",
       "      <td>todayilearned</td>\n",
       "      <td></td>\n",
       "      <td>t2_ov3dd</td>\n",
       "      <td>False</td>\n",
       "      <td>None</td>\n",
       "      <td>0</td>\n",
       "      <td>False</td>\n",
       "      <td>TIL that Winnie Mandela, wife of Nelson Mandel...</td>\n",
       "      <td>[]</td>\n",
       "      <td>...</td>\n",
       "      <td>/r/todayilearned/comments/e7znks/til_that_winn...</td>\n",
       "      <td>all_ads</td>\n",
       "      <td>False</td>\n",
       "      <td>https://www.nytimes.com/1997/12/04/world/winni...</td>\n",
       "      <td>21846303</td>\n",
       "      <td>1.575840e+09</td>\n",
       "      <td>1</td>\n",
       "      <td>None</td>\n",
       "      <td>False</td>\n",
       "      <td>NaN</td>\n",
       "    </tr>\n",
       "    <tr>\n",
       "      <td>18</td>\n",
       "      <td>None</td>\n",
       "      <td>todayilearned</td>\n",
       "      <td></td>\n",
       "      <td>t2_gs4d9</td>\n",
       "      <td>False</td>\n",
       "      <td>None</td>\n",
       "      <td>0</td>\n",
       "      <td>False</td>\n",
       "      <td>TIL actress Glynis Johns originally thought sh...</td>\n",
       "      <td>[]</td>\n",
       "      <td>...</td>\n",
       "      <td>/r/todayilearned/comments/e7vopv/til_actress_g...</td>\n",
       "      <td>all_ads</td>\n",
       "      <td>False</td>\n",
       "      <td>https://en.wikipedia.org/wiki/Sister_Suffragette</td>\n",
       "      <td>21846303</td>\n",
       "      <td>1.575822e+09</td>\n",
       "      <td>0</td>\n",
       "      <td>None</td>\n",
       "      <td>False</td>\n",
       "      <td>NaN</td>\n",
       "    </tr>\n",
       "    <tr>\n",
       "      <td>19</td>\n",
       "      <td>None</td>\n",
       "      <td>todayilearned</td>\n",
       "      <td></td>\n",
       "      <td>t2_3uf5pcg9</td>\n",
       "      <td>False</td>\n",
       "      <td>None</td>\n",
       "      <td>1</td>\n",
       "      <td>False</td>\n",
       "      <td>TIL in 1956 two young girls who were obsessed ...</td>\n",
       "      <td>[]</td>\n",
       "      <td>...</td>\n",
       "      <td>/r/todayilearned/comments/e7qkbe/til_in_1956_t...</td>\n",
       "      <td>all_ads</td>\n",
       "      <td>False</td>\n",
       "      <td>https://thecurrentatahs.com/5032/unsolved/the-...</td>\n",
       "      <td>21846303</td>\n",
       "      <td>1.575787e+09</td>\n",
       "      <td>3</td>\n",
       "      <td>None</td>\n",
       "      <td>False</td>\n",
       "      <td>NaN</td>\n",
       "    </tr>\n",
       "    <tr>\n",
       "      <td>20</td>\n",
       "      <td>None</td>\n",
       "      <td>todayilearned</td>\n",
       "      <td></td>\n",
       "      <td>t2_3hg856o6</td>\n",
       "      <td>False</td>\n",
       "      <td>None</td>\n",
       "      <td>0</td>\n",
       "      <td>False</td>\n",
       "      <td>TIL about Vincent Kosuga, an American Onion fa...</td>\n",
       "      <td>[]</td>\n",
       "      <td>...</td>\n",
       "      <td>/r/todayilearned/comments/e83g88/til_about_vin...</td>\n",
       "      <td>all_ads</td>\n",
       "      <td>False</td>\n",
       "      <td>https://en.wikipedia.org/wiki/Vincent_Kosuga</td>\n",
       "      <td>21846303</td>\n",
       "      <td>1.575858e+09</td>\n",
       "      <td>0</td>\n",
       "      <td>None</td>\n",
       "      <td>False</td>\n",
       "      <td>NaN</td>\n",
       "    </tr>\n",
       "    <tr>\n",
       "      <td>21</td>\n",
       "      <td>None</td>\n",
       "      <td>todayilearned</td>\n",
       "      <td></td>\n",
       "      <td>t2_ssgfg</td>\n",
       "      <td>False</td>\n",
       "      <td>None</td>\n",
       "      <td>0</td>\n",
       "      <td>False</td>\n",
       "      <td>TIL if you try to steal the hood ornament from...</td>\n",
       "      <td>[]</td>\n",
       "      <td>...</td>\n",
       "      <td>/r/todayilearned/comments/e7x40w/til_if_you_tr...</td>\n",
       "      <td>all_ads</td>\n",
       "      <td>False</td>\n",
       "      <td>https://www.youtube.com/watch?time_continue=17...</td>\n",
       "      <td>21846303</td>\n",
       "      <td>1.575829e+09</td>\n",
       "      <td>0</td>\n",
       "      <td>{'type': 'youtube.com', 'oembed': {'provider_u...</td>\n",
       "      <td>False</td>\n",
       "      <td>True</td>\n",
       "    </tr>\n",
       "    <tr>\n",
       "      <td>22</td>\n",
       "      <td>None</td>\n",
       "      <td>todayilearned</td>\n",
       "      <td></td>\n",
       "      <td>t2_7fiaj</td>\n",
       "      <td>False</td>\n",
       "      <td>None</td>\n",
       "      <td>0</td>\n",
       "      <td>False</td>\n",
       "      <td>TIL NASA sent actor and Puppeteer Caroll Spinn...</td>\n",
       "      <td>[]</td>\n",
       "      <td>...</td>\n",
       "      <td>/r/todayilearned/comments/e83b6i/til_nasa_sent...</td>\n",
       "      <td>all_ads</td>\n",
       "      <td>False</td>\n",
       "      <td>https://www.nbcnews.com/news/amp/ncna353521</td>\n",
       "      <td>21846303</td>\n",
       "      <td>1.575857e+09</td>\n",
       "      <td>0</td>\n",
       "      <td>None</td>\n",
       "      <td>False</td>\n",
       "      <td>NaN</td>\n",
       "    </tr>\n",
       "    <tr>\n",
       "      <td>23</td>\n",
       "      <td>None</td>\n",
       "      <td>todayilearned</td>\n",
       "      <td></td>\n",
       "      <td>t2_1439fc</td>\n",
       "      <td>False</td>\n",
       "      <td>None</td>\n",
       "      <td>0</td>\n",
       "      <td>False</td>\n",
       "      <td>TIL that one out of six people in the United S...</td>\n",
       "      <td>[]</td>\n",
       "      <td>...</td>\n",
       "      <td>/r/todayilearned/comments/e7w9cr/til_that_one_...</td>\n",
       "      <td>all_ads</td>\n",
       "      <td>False</td>\n",
       "      <td>https://justherpes.com/facts/genital-herpes-st...</td>\n",
       "      <td>21846303</td>\n",
       "      <td>1.575825e+09</td>\n",
       "      <td>0</td>\n",
       "      <td>None</td>\n",
       "      <td>False</td>\n",
       "      <td>NaN</td>\n",
       "    </tr>\n",
       "    <tr>\n",
       "      <td>24</td>\n",
       "      <td>None</td>\n",
       "      <td>todayilearned</td>\n",
       "      <td></td>\n",
       "      <td>t2_c5o47q6</td>\n",
       "      <td>False</td>\n",
       "      <td>None</td>\n",
       "      <td>0</td>\n",
       "      <td>False</td>\n",
       "      <td>TIL there's a mock religion called Discordiani...</td>\n",
       "      <td>[]</td>\n",
       "      <td>...</td>\n",
       "      <td>/r/todayilearned/comments/e7ylb4/til_theres_a_...</td>\n",
       "      <td>all_ads</td>\n",
       "      <td>False</td>\n",
       "      <td>https://en.wikipedia.org/wiki/Discordianism</td>\n",
       "      <td>21846303</td>\n",
       "      <td>1.575835e+09</td>\n",
       "      <td>1</td>\n",
       "      <td>None</td>\n",
       "      <td>False</td>\n",
       "      <td>NaN</td>\n",
       "    </tr>\n",
       "  </tbody>\n",
       "</table>\n",
       "<p>25 rows × 105 columns</p>\n",
       "</div>"
      ],
      "text/plain": [
       "   approved_at_utc      subreddit selftext author_fullname  saved  \\\n",
       "0             None  todayilearned              t2_3rjktver  False   \n",
       "1             None  todayilearned              t2_4azmqlxh  False   \n",
       "2             None  todayilearned                 t2_9amwg  False   \n",
       "3             None  todayilearned              t2_10gswqiq  False   \n",
       "4             None  todayilearned                 t2_u19t6  False   \n",
       "5             None  todayilearned                 t2_vfe99  False   \n",
       "6             None  todayilearned                 t2_3wc78  False   \n",
       "7             None  todayilearned               t2_48c5510  False   \n",
       "8             None  todayilearned                 t2_h284k  False   \n",
       "9             None  todayilearned              t2_2ggohkh8  False   \n",
       "10            None  todayilearned               t2_mgj4z8r  False   \n",
       "11            None  todayilearned              t2_3sgd8g23  False   \n",
       "12            None  todayilearned              t2_534f9e0m  False   \n",
       "13            None  todayilearned                 t2_pko0t  False   \n",
       "14            None  todayilearned              t2_43bcbu2m  False   \n",
       "15            None  todayilearned                t2_12himl  False   \n",
       "16            None  todayilearned                 t2_s5wa1  False   \n",
       "17            None  todayilearned                 t2_ov3dd  False   \n",
       "18            None  todayilearned                 t2_gs4d9  False   \n",
       "19            None  todayilearned              t2_3uf5pcg9  False   \n",
       "20            None  todayilearned              t2_3hg856o6  False   \n",
       "21            None  todayilearned                 t2_ssgfg  False   \n",
       "22            None  todayilearned                 t2_7fiaj  False   \n",
       "23            None  todayilearned                t2_1439fc  False   \n",
       "24            None  todayilearned               t2_c5o47q6  False   \n",
       "\n",
       "   mod_reason_title  gilded  clicked  \\\n",
       "0              None       0    False   \n",
       "1              None       2    False   \n",
       "2              None       0    False   \n",
       "3              None       0    False   \n",
       "4              None       0    False   \n",
       "5              None       0    False   \n",
       "6              None       0    False   \n",
       "7              None       0    False   \n",
       "8              None       0    False   \n",
       "9              None       0    False   \n",
       "10             None       0    False   \n",
       "11             None       0    False   \n",
       "12             None       0    False   \n",
       "13             None       0    False   \n",
       "14             None       0    False   \n",
       "15             None       0    False   \n",
       "16             None       0    False   \n",
       "17             None       0    False   \n",
       "18             None       0    False   \n",
       "19             None       1    False   \n",
       "20             None       0    False   \n",
       "21             None       0    False   \n",
       "22             None       0    False   \n",
       "23             None       0    False   \n",
       "24             None       0    False   \n",
       "\n",
       "                                                title link_flair_richtext  \\\n",
       "0   TIL that, in 1954, Betty White was criticized ...                  []   \n",
       "1   TIL that rapper Tech N9ne picks up bras that w...                  []   \n",
       "2   TIL that Dolly Parton's family was so poor tha...                  []   \n",
       "3   TIL that in a Roman hospital doctors used to h...                  []   \n",
       "4   TIL that an Iraqi man slept through the invasi...                  []   \n",
       "5   TIL the urban legend of Atari burying hundreds...                  []   \n",
       "6   TIL that the most expensive hot dog at an MLB ...                  []   \n",
       "7   TIL a golden chamber buried under a mountain i...                  []   \n",
       "8   TIL That in 1991 Paul Reubens (Pee Wee Herman)...                  []   \n",
       "9   TIL that in Spearfish, South Dakota on January...                  []   \n",
       "10  TIL a dead 13-foot shark, floating in a tank o...                  []   \n",
       "11  TIL, Joseph Beyrle, an American Paratrooper, f...                  []   \n",
       "12  TIL that even though they shared the role of M...                  []   \n",
       "13  TIL Lego didn't invent interlocking bricks, th...                  []   \n",
       "14  TIL that Since 1979, Jadav Payeng aka The Fore...                  []   \n",
       "15  TIL Wisconsin has 10 of the top 20 Drunkest Ci...                  []   \n",
       "16  TIL That the coldest temperature recorded was ...                  []   \n",
       "17  TIL that Winnie Mandela, wife of Nelson Mandel...                  []   \n",
       "18  TIL actress Glynis Johns originally thought sh...                  []   \n",
       "19  TIL in 1956 two young girls who were obsessed ...                  []   \n",
       "20  TIL about Vincent Kosuga, an American Onion fa...                  []   \n",
       "21  TIL if you try to steal the hood ornament from...                  []   \n",
       "22  TIL NASA sent actor and Puppeteer Caroll Spinn...                  []   \n",
       "23  TIL that one out of six people in the United S...                  []   \n",
       "24  TIL there's a mock religion called Discordiani...                  []   \n",
       "\n",
       "    ...                                          permalink  \\\n",
       "0   ...  /r/todayilearned/comments/e85425/til_that_in_1...   \n",
       "1   ...  /r/todayilearned/comments/e81x3k/til_that_rapp...   \n",
       "2   ...  /r/todayilearned/comments/e80xrh/til_that_doll...   \n",
       "3   ...  /r/todayilearned/comments/e7zldb/til_that_in_a...   \n",
       "4   ...  /r/todayilearned/comments/e7xrte/til_that_an_i...   \n",
       "5   ...  /r/todayilearned/comments/e7we9f/til_the_urban...   \n",
       "6   ...  /r/todayilearned/comments/e84gar/til_that_the_...   \n",
       "7   ...  /r/todayilearned/comments/e7ulrs/til_a_golden_...   \n",
       "8   ...  /r/todayilearned/comments/e7txlh/til_that_in_1...   \n",
       "9   ...  /r/todayilearned/comments/e7u6a0/til_that_in_s...   \n",
       "10  ...  /r/todayilearned/comments/e85zp9/til_a_dead_13...   \n",
       "11  ...  /r/todayilearned/comments/e7t0dj/til_joseph_be...   \n",
       "12  ...  /r/todayilearned/comments/e7vhf2/til_that_even...   \n",
       "13  ...  /r/todayilearned/comments/e7z50t/til_lego_didn...   \n",
       "14  ...  /r/todayilearned/comments/e85l04/til_that_sinc...   \n",
       "15  ...  /r/todayilearned/comments/e826wx/til_wisconsin...   \n",
       "16  ...  /r/todayilearned/comments/e7qiyw/til_that_the_...   \n",
       "17  ...  /r/todayilearned/comments/e7znks/til_that_winn...   \n",
       "18  ...  /r/todayilearned/comments/e7vopv/til_actress_g...   \n",
       "19  ...  /r/todayilearned/comments/e7qkbe/til_in_1956_t...   \n",
       "20  ...  /r/todayilearned/comments/e83g88/til_about_vin...   \n",
       "21  ...  /r/todayilearned/comments/e7x40w/til_if_you_tr...   \n",
       "22  ...  /r/todayilearned/comments/e83b6i/til_nasa_sent...   \n",
       "23  ...  /r/todayilearned/comments/e7w9cr/til_that_one_...   \n",
       "24  ...  /r/todayilearned/comments/e7ylb4/til_theres_a_...   \n",
       "\n",
       "    parent_whitelist_status  stickied  \\\n",
       "0                   all_ads     False   \n",
       "1                   all_ads     False   \n",
       "2                   all_ads     False   \n",
       "3                   all_ads     False   \n",
       "4                   all_ads     False   \n",
       "5                   all_ads     False   \n",
       "6                   all_ads     False   \n",
       "7                   all_ads     False   \n",
       "8                   all_ads     False   \n",
       "9                   all_ads     False   \n",
       "10                  all_ads     False   \n",
       "11                  all_ads     False   \n",
       "12                  all_ads     False   \n",
       "13                  all_ads     False   \n",
       "14                  all_ads     False   \n",
       "15                  all_ads     False   \n",
       "16                  all_ads     False   \n",
       "17                  all_ads     False   \n",
       "18                  all_ads     False   \n",
       "19                  all_ads     False   \n",
       "20                  all_ads     False   \n",
       "21                  all_ads     False   \n",
       "22                  all_ads     False   \n",
       "23                  all_ads     False   \n",
       "24                  all_ads     False   \n",
       "\n",
       "                                                  url  subreddit_subscribers  \\\n",
       "0           https://en.wikipedia.org/wiki/Betty_White               21846303   \n",
       "1   https://www.xxlmag.com/news/2016/01/tech-n9ne-...               21846303   \n",
       "2   https://www.rollingstone.com/music/music-featu...               21846303   \n",
       "3   https://www.historytoday.com/history-matters/k...               21846303   \n",
       "4   https://www.vice.com/en_us/article/7xjq5g/this...               21846303   \n",
       "5   https://www.cnet.com/news/success-atari-e-t-ga...               21846303   \n",
       "6   https://www.statista.com/statistics/202743/hot...               21846303   \n",
       "7   https://www.businessinsider.com/super-kamiokan...               21846303   \n",
       "8   https://en.wikipedia.org/wiki/Pee-wee_Herman#R...               21846303   \n",
       "9   https://www.weathernationtv.com/news/day-spear...               21846303   \n",
       "10  https://www.vice.com/en_us/article/bjqje4/this...               21846303   \n",
       "11        https://en.wikipedia.org/wiki/Joseph_Beyrle               21846303   \n",
       "12  https://en.wikipedia.org/wiki/Mary-Kate_and_As...               21846303   \n",
       "13        https://en.wikipedia.org/wiki/Lego_timeline               21846303   \n",
       "14  https://rakoza.com/a-lifetime-of-planting-tree...               21846303   \n",
       "15  https://www.usatoday.com/story/money/food/2018...               21846303   \n",
       "16  https://www.nationalgeographic.com/news/2018/0...               21846303   \n",
       "17  https://www.nytimes.com/1997/12/04/world/winni...               21846303   \n",
       "18   https://en.wikipedia.org/wiki/Sister_Suffragette               21846303   \n",
       "19  https://thecurrentatahs.com/5032/unsolved/the-...               21846303   \n",
       "20       https://en.wikipedia.org/wiki/Vincent_Kosuga               21846303   \n",
       "21  https://www.youtube.com/watch?time_continue=17...               21846303   \n",
       "22        https://www.nbcnews.com/news/amp/ncna353521               21846303   \n",
       "23  https://justherpes.com/facts/genital-herpes-st...               21846303   \n",
       "24        https://en.wikipedia.org/wiki/Discordianism               21846303   \n",
       "\n",
       "     created_utc  num_crossposts  \\\n",
       "0   1.575867e+09               2   \n",
       "1   1.575850e+09               8   \n",
       "2   1.575846e+09               2   \n",
       "3   1.575840e+09               3   \n",
       "4   1.575832e+09               8   \n",
       "5   1.575826e+09               3   \n",
       "6   1.575863e+09               2   \n",
       "7   1.575817e+09               4   \n",
       "8   1.575813e+09               2   \n",
       "9   1.575815e+09               1   \n",
       "10  1.575871e+09               0   \n",
       "11  1.575807e+09               2   \n",
       "12  1.575821e+09               1   \n",
       "13  1.575838e+09               1   \n",
       "14  1.575869e+09               0   \n",
       "15  1.575852e+09               1   \n",
       "16  1.575787e+09               9   \n",
       "17  1.575840e+09               1   \n",
       "18  1.575822e+09               0   \n",
       "19  1.575787e+09               3   \n",
       "20  1.575858e+09               0   \n",
       "21  1.575829e+09               0   \n",
       "22  1.575857e+09               0   \n",
       "23  1.575825e+09               0   \n",
       "24  1.575835e+09               1   \n",
       "\n",
       "                                                media  is_video author_cakeday  \n",
       "0                                                None     False            NaN  \n",
       "1                                                None     False            NaN  \n",
       "2                                                None     False            NaN  \n",
       "3                                                None     False            NaN  \n",
       "4                                                None     False            NaN  \n",
       "5                                                None     False            NaN  \n",
       "6                                                None     False            NaN  \n",
       "7                                                None     False            NaN  \n",
       "8                                                None     False            NaN  \n",
       "9                                                None     False            NaN  \n",
       "10                                               None     False            NaN  \n",
       "11                                               None     False            NaN  \n",
       "12                                               None     False            NaN  \n",
       "13                                               None     False            NaN  \n",
       "14                                               None     False            NaN  \n",
       "15                                               None     False            NaN  \n",
       "16                                               None     False            NaN  \n",
       "17                                               None     False            NaN  \n",
       "18                                               None     False            NaN  \n",
       "19                                               None     False            NaN  \n",
       "20                                               None     False            NaN  \n",
       "21  {'type': 'youtube.com', 'oembed': {'provider_u...     False           True  \n",
       "22                                               None     False            NaN  \n",
       "23                                               None     False            NaN  \n",
       "24                                               None     False            NaN  \n",
       "\n",
       "[25 rows x 105 columns]"
      ]
     },
     "execution_count": 37,
     "metadata": {},
     "output_type": "execute_result"
    }
   ],
   "source": [
    "pd.DataFrame(today_posts)"
   ]
  },
  {
   "cell_type": "markdown",
   "metadata": {},
   "source": [
    "The below cell shows a list of names "
   ]
  },
  {
   "cell_type": "code",
   "execution_count": 38,
   "metadata": {},
   "outputs": [
    {
     "data": {
      "text/plain": [
       "0     t3_e85425\n",
       "1     t3_e81x3k\n",
       "2     t3_e80xrh\n",
       "3     t3_e7zldb\n",
       "4     t3_e7xrte\n",
       "5     t3_e7we9f\n",
       "6     t3_e84gar\n",
       "7     t3_e7ulrs\n",
       "8     t3_e7txlh\n",
       "9     t3_e7u6a0\n",
       "10    t3_e85zp9\n",
       "11    t3_e7t0dj\n",
       "12    t3_e7vhf2\n",
       "13    t3_e7z50t\n",
       "14    t3_e85l04\n",
       "15    t3_e826wx\n",
       "16    t3_e7qiyw\n",
       "17    t3_e7znks\n",
       "18    t3_e7vopv\n",
       "19    t3_e7qkbe\n",
       "20    t3_e83g88\n",
       "21    t3_e7x40w\n",
       "22    t3_e83b6i\n",
       "23    t3_e7w9cr\n",
       "24    t3_e7ylb4\n",
       "Name: name, dtype: object"
      ]
     },
     "execution_count": 38,
     "metadata": {},
     "output_type": "execute_result"
    }
   ],
   "source": [
    "pd.DataFrame(today_posts)['name']"
   ]
  },
  {
   "cell_type": "markdown",
   "metadata": {},
   "source": [
    "`ds_dict['data']['after']` will show the last name on the subreddit page."
   ]
  },
  {
   "cell_type": "code",
   "execution_count": 39,
   "metadata": {
    "scrolled": true
   },
   "outputs": [
    {
     "data": {
      "text/plain": [
       "'t3_e7ylb4'"
      ]
     },
     "execution_count": 39,
     "metadata": {},
     "output_type": "execute_result"
    }
   ],
   "source": [
    "today_dict['data']['after']"
   ]
  },
  {
   "cell_type": "markdown",
   "metadata": {},
   "source": [
    "###### 4. Create a for loop to collect more posts and save a copy into `.csv` in case something goes wrong in the loop and data won't get lost."
   ]
  },
  {
   "cell_type": "code",
   "execution_count": 40,
   "metadata": {},
   "outputs": [
    {
     "name": "stdout",
     "output_type": "stream",
     "text": [
      "https://www.reddit.com/r/todayilearned.json\n",
      "1\n",
      "https://www.reddit.com/r/todayilearned.json?after=t3_e7ylb4\n",
      "2\n",
      "https://www.reddit.com/r/todayilearned.json?after=t3_e7mzvd\n",
      "3\n",
      "https://www.reddit.com/r/todayilearned.json?after=t3_e8376j\n",
      "1\n",
      "https://www.reddit.com/r/todayilearned.json?after=t3_e80pkz\n",
      "2\n",
      "https://www.reddit.com/r/todayilearned.json?after=t3_e7ocm9\n",
      "1\n",
      "https://www.reddit.com/r/todayilearned.json?after=t3_e7cetf\n",
      "1\n",
      "https://www.reddit.com/r/todayilearned.json?after=t3_e7il3y\n",
      "1\n",
      "https://www.reddit.com/r/todayilearned.json?after=t3_e7fdfv\n",
      "2\n",
      "https://www.reddit.com/r/todayilearned.json?after=t3_e7js2i\n",
      "3\n",
      "https://www.reddit.com/r/todayilearned.json?after=t3_e7e8fg\n",
      "1\n",
      "https://www.reddit.com/r/todayilearned.json?after=t3_e74k8p\n",
      "1\n",
      "https://www.reddit.com/r/todayilearned.json?after=t3_e6xq2c\n",
      "1\n",
      "https://www.reddit.com/r/todayilearned.json?after=t3_e74prl\n",
      "2\n",
      "https://www.reddit.com/r/todayilearned.json?after=t3_e6ye7f\n",
      "3\n",
      "https://www.reddit.com/r/todayilearned.json?after=t3_e6rdb3\n",
      "1\n",
      "https://www.reddit.com/r/todayilearned.json?after=t3_e6rx18\n",
      "3\n",
      "https://www.reddit.com/r/todayilearned.json?after=t3_e6n7me\n",
      "2\n",
      "https://www.reddit.com/r/todayilearned.json?after=t3_e6ipyx\n",
      "3\n",
      "https://www.reddit.com/r/todayilearned.json?after=t3_e6ld24\n",
      "2\n",
      "https://www.reddit.com/r/todayilearned.json?after=t3_e67c6f\n",
      "1\n",
      "https://www.reddit.com/r/todayilearned.json?after=t3_e5tbdd\n",
      "3\n",
      "https://www.reddit.com/r/todayilearned.json?after=t3_e6a99h\n",
      "1\n",
      "https://www.reddit.com/r/todayilearned.json?after=t3_e66mpi\n",
      "3\n",
      "https://www.reddit.com/r/todayilearned.json?after=t3_e5ph7n\n",
      "1\n"
     ]
    }
   ],
   "source": [
    "today_posts = []\n",
    "after = None\n",
    "\n",
    "for a in range(25):           # loop will run for 25 times and load more posts\n",
    "    if after == None:\n",
    "        current_url = today_url\n",
    "    else:\n",
    "        current_url = today_url + '?after=' + after\n",
    "    print(current_url)\n",
    "    response = requests.get(current_url, headers={'User-agent': 'Pony Inc 1.0'})\n",
    "    \n",
    "    if response.status_code != 200:                     # An error will surface if the status_code is not 200\n",
    "        print('Status error', response.status_code)\n",
    "        break\n",
    "    \n",
    "    current_dict = response.json()\n",
    "    current_posts = [p['data'] for p in current_dict['data']['children']]\n",
    "    today_posts.extend(current_posts)\n",
    "    after = current_dict['data']['after']\n",
    "\n",
    "    if a > 0:\n",
    "        prev_posts = pd.read_csv('todayilearned.csv')     # A copy of csv containing the posts will be saved\n",
    "        current_df = pd.DataFrame()\n",
    "        \n",
    "    else:\n",
    "        pd.DataFrame(today_posts).to_csv('todayilearned.csv', index = False)\n",
    "    \n",
    "    sleep_duration = random.randint(1,3)       # The loop will run again to load more post between 1 to 3 seconds\n",
    "    print(sleep_duration)\n",
    "    time.sleep(sleep_duration)"
   ]
  },
  {
   "cell_type": "markdown",
   "metadata": {},
   "source": [
    "The total number of posts collected is 625"
   ]
  },
  {
   "cell_type": "code",
   "execution_count": 41,
   "metadata": {
    "scrolled": true
   },
   "outputs": [
    {
     "data": {
      "text/plain": [
       "625"
      ]
     },
     "execution_count": 41,
     "metadata": {},
     "output_type": "execute_result"
    }
   ],
   "source": [
    "len(today_posts)"
   ]
  },
  {
   "cell_type": "markdown",
   "metadata": {},
   "source": [
    "###### 5. Assign the new data into a variable and save a copy as `.csv`"
   ]
  },
  {
   "cell_type": "code",
   "execution_count": 42,
   "metadata": {},
   "outputs": [],
   "source": [
    "today_train = pd.DataFrame(today_posts)"
   ]
  },
  {
   "cell_type": "code",
   "execution_count": 43,
   "metadata": {},
   "outputs": [],
   "source": [
    "today_train.to_csv('today_train.csv', index = False)"
   ]
  },
  {
   "cell_type": "markdown",
   "metadata": {},
   "source": [
    "## EDA, Data Cleaning and Preprocessing"
   ]
  },
  {
   "cell_type": "markdown",
   "metadata": {},
   "source": [
    "###### 1. Perform data cleaning on the `'world news'` and `'todayilearned' ` subreddit"
   ]
  },
  {
   "cell_type": "markdown",
   "metadata": {},
   "source": [
    "Drop columns that have more than 200 null values"
   ]
  },
  {
   "cell_type": "code",
   "execution_count": 44,
   "metadata": {},
   "outputs": [],
   "source": [
    "dropnull = [feature for feature in world_train.columns if world_train[[feature]].isnull().sum()[0] > 200]"
   ]
  },
  {
   "cell_type": "code",
   "execution_count": 45,
   "metadata": {},
   "outputs": [],
   "source": [
    "for features in dropnull:\n",
    "    world_train.drop(features,axis=1,inplace=True)"
   ]
  },
  {
   "cell_type": "markdown",
   "metadata": {},
   "source": [
    "Check the data types using `.dtypes`"
   ]
  },
  {
   "cell_type": "code",
   "execution_count": 46,
   "metadata": {},
   "outputs": [
    {
     "data": {
      "text/plain": [
       "subreddit                 object\n",
       "selftext                  object\n",
       "author_fullname           object\n",
       "saved                       bool\n",
       "gilded                     int64\n",
       "                          ...   \n",
       "url                       object\n",
       "subreddit_subscribers      int64\n",
       "created_utc              float64\n",
       "num_crossposts             int64\n",
       "is_video                    bool\n",
       "Length: 71, dtype: object"
      ]
     },
     "execution_count": 46,
     "metadata": {},
     "output_type": "execute_result"
    }
   ],
   "source": [
    "world_train.dtypes"
   ]
  },
  {
   "cell_type": "markdown",
   "metadata": {},
   "source": [
    "Drop columns that are not significant to text"
   ]
  },
  {
   "cell_type": "code",
   "execution_count": 47,
   "metadata": {},
   "outputs": [],
   "source": [
    "for col in world_train:\n",
    "    if world_train.dtypes[col] != 'object':\n",
    "        world_train.drop(col,axis=1,inplace=True)"
   ]
  },
  {
   "cell_type": "code",
   "execution_count": 48,
   "metadata": {},
   "outputs": [],
   "source": [
    "world_train.dropna(axis=1,inplace=True)"
   ]
  },
  {
   "cell_type": "code",
   "execution_count": 49,
   "metadata": {},
   "outputs": [
    {
     "data": {
      "text/plain": [
       "Index(['subreddit', 'selftext', 'title', 'link_flair_richtext',\n",
       "       'subreddit_name_prefixed', 'name', 'link_flair_text_color',\n",
       "       'subreddit_type', 'media_embed', 'user_reports', 'secure_media_embed',\n",
       "       'thumbnail', 'steward_reports', 'gildings', 'link_flair_type', 'domain',\n",
       "       'all_awardings', 'awarders', 'subreddit_id',\n",
       "       'link_flair_background_color', 'id', 'author', 'whitelist_status',\n",
       "       'mod_reports', 'permalink', 'parent_whitelist_status', 'url'],\n",
       "      dtype='object')"
      ]
     },
     "execution_count": 49,
     "metadata": {},
     "output_type": "execute_result"
    }
   ],
   "source": [
    "world_train.columns"
   ]
  },
  {
   "cell_type": "code",
   "execution_count": 50,
   "metadata": {},
   "outputs": [],
   "source": [
    "world_train_data = world_train[['subreddit','title']]"
   ]
  },
  {
   "cell_type": "markdown",
   "metadata": {},
   "source": [
    "`.head()` to check the first few rows of the worldnews data"
   ]
  },
  {
   "cell_type": "code",
   "execution_count": 51,
   "metadata": {},
   "outputs": [
    {
     "data": {
      "text/html": [
       "<div>\n",
       "<style scoped>\n",
       "    .dataframe tbody tr th:only-of-type {\n",
       "        vertical-align: middle;\n",
       "    }\n",
       "\n",
       "    .dataframe tbody tr th {\n",
       "        vertical-align: top;\n",
       "    }\n",
       "\n",
       "    .dataframe thead th {\n",
       "        text-align: right;\n",
       "    }\n",
       "</style>\n",
       "<table border=\"1\" class=\"dataframe\">\n",
       "  <thead>\n",
       "    <tr style=\"text-align: right;\">\n",
       "      <th></th>\n",
       "      <th>subreddit</th>\n",
       "      <th>title</th>\n",
       "    </tr>\n",
       "  </thead>\n",
       "  <tbody>\n",
       "    <tr>\n",
       "      <td>0</td>\n",
       "      <td>worldnews</td>\n",
       "      <td>Far-Right Terrorism Has Increased 320 Percent ...</td>\n",
       "    </tr>\n",
       "    <tr>\n",
       "      <td>1</td>\n",
       "      <td>worldnews</td>\n",
       "      <td>Danish NATO event cancelled after US bars Trum...</td>\n",
       "    </tr>\n",
       "    <tr>\n",
       "      <td>2</td>\n",
       "      <td>worldnews</td>\n",
       "      <td>Conservative government giving NHS data to Ama...</td>\n",
       "    </tr>\n",
       "    <tr>\n",
       "      <td>3</td>\n",
       "      <td>worldnews</td>\n",
       "      <td>Whistleblower goes public after leaked documen...</td>\n",
       "    </tr>\n",
       "    <tr>\n",
       "      <td>4</td>\n",
       "      <td>worldnews</td>\n",
       "      <td>Volcano Erupts on White Island in New Zealand,...</td>\n",
       "    </tr>\n",
       "  </tbody>\n",
       "</table>\n",
       "</div>"
      ],
      "text/plain": [
       "   subreddit                                              title\n",
       "0  worldnews  Far-Right Terrorism Has Increased 320 Percent ...\n",
       "1  worldnews  Danish NATO event cancelled after US bars Trum...\n",
       "2  worldnews  Conservative government giving NHS data to Ama...\n",
       "3  worldnews  Whistleblower goes public after leaked documen...\n",
       "4  worldnews  Volcano Erupts on White Island in New Zealand,..."
      ]
     },
     "execution_count": 51,
     "metadata": {},
     "output_type": "execute_result"
    }
   ],
   "source": [
    "world_train_data.head()"
   ]
  },
  {
   "cell_type": "markdown",
   "metadata": {},
   "source": [
    "Drop columns that have more than 200 null values"
   ]
  },
  {
   "cell_type": "code",
   "execution_count": 52,
   "metadata": {},
   "outputs": [],
   "source": [
    "dropnull = [feature for feature in today_train.columns if today_train[[feature]].isnull().sum()[0] > 200]"
   ]
  },
  {
   "cell_type": "markdown",
   "metadata": {},
   "source": [
    "Drop columns that are not significant to text"
   ]
  },
  {
   "cell_type": "code",
   "execution_count": 53,
   "metadata": {},
   "outputs": [],
   "source": [
    "for features in dropnull:\n",
    "    today_train.drop(features,axis=1,inplace=True)"
   ]
  },
  {
   "cell_type": "markdown",
   "metadata": {},
   "source": [
    "Check the data types using `.dtypes`"
   ]
  },
  {
   "cell_type": "code",
   "execution_count": 54,
   "metadata": {},
   "outputs": [
    {
     "data": {
      "text/plain": [
       "subreddit                 object\n",
       "selftext                  object\n",
       "author_fullname           object\n",
       "saved                       bool\n",
       "gilded                     int64\n",
       "                          ...   \n",
       "url                       object\n",
       "subreddit_subscribers      int64\n",
       "created_utc              float64\n",
       "num_crossposts             int64\n",
       "is_video                    bool\n",
       "Length: 75, dtype: object"
      ]
     },
     "execution_count": 54,
     "metadata": {},
     "output_type": "execute_result"
    }
   ],
   "source": [
    "today_train.dtypes"
   ]
  },
  {
   "cell_type": "code",
   "execution_count": 55,
   "metadata": {},
   "outputs": [],
   "source": [
    "for col in today_train:\n",
    "    if today_train.dtypes[col] != 'object':\n",
    "        today_train.drop(col,axis=1,inplace=True)"
   ]
  },
  {
   "cell_type": "code",
   "execution_count": 56,
   "metadata": {},
   "outputs": [],
   "source": [
    "today_train.dropna(axis=1,inplace=True)"
   ]
  },
  {
   "cell_type": "code",
   "execution_count": 57,
   "metadata": {},
   "outputs": [
    {
     "data": {
      "text/plain": [
       "Index(['subreddit', 'selftext', 'author_fullname', 'title',\n",
       "       'link_flair_richtext', 'subreddit_name_prefixed', 'name',\n",
       "       'link_flair_text_color', 'subreddit_type', 'media_embed',\n",
       "       'user_reports', 'secure_media_embed', 'thumbnail', 'steward_reports',\n",
       "       'author_flair_richtext', 'gildings', 'link_flair_type',\n",
       "       'author_flair_type', 'domain', 'all_awardings', 'awarders',\n",
       "       'subreddit_id', 'link_flair_background_color', 'id', 'author',\n",
       "       'whitelist_status', 'mod_reports', 'permalink',\n",
       "       'parent_whitelist_status', 'url'],\n",
       "      dtype='object')"
      ]
     },
     "execution_count": 57,
     "metadata": {},
     "output_type": "execute_result"
    }
   ],
   "source": [
    "today_train.columns"
   ]
  },
  {
   "cell_type": "code",
   "execution_count": 58,
   "metadata": {},
   "outputs": [],
   "source": [
    "today_train_data = today_train[['subreddit','title']]"
   ]
  },
  {
   "cell_type": "markdown",
   "metadata": {},
   "source": [
    "`.head()` to check the first few rows of the worldnews data"
   ]
  },
  {
   "cell_type": "code",
   "execution_count": 59,
   "metadata": {},
   "outputs": [
    {
     "data": {
      "text/html": [
       "<div>\n",
       "<style scoped>\n",
       "    .dataframe tbody tr th:only-of-type {\n",
       "        vertical-align: middle;\n",
       "    }\n",
       "\n",
       "    .dataframe tbody tr th {\n",
       "        vertical-align: top;\n",
       "    }\n",
       "\n",
       "    .dataframe thead th {\n",
       "        text-align: right;\n",
       "    }\n",
       "</style>\n",
       "<table border=\"1\" class=\"dataframe\">\n",
       "  <thead>\n",
       "    <tr style=\"text-align: right;\">\n",
       "      <th></th>\n",
       "      <th>subreddit</th>\n",
       "      <th>title</th>\n",
       "    </tr>\n",
       "  </thead>\n",
       "  <tbody>\n",
       "    <tr>\n",
       "      <td>0</td>\n",
       "      <td>todayilearned</td>\n",
       "      <td>TIL that, in 1954, Betty White was criticized ...</td>\n",
       "    </tr>\n",
       "    <tr>\n",
       "      <td>1</td>\n",
       "      <td>todayilearned</td>\n",
       "      <td>TIL that rapper Tech N9ne picks up bras that w...</td>\n",
       "    </tr>\n",
       "    <tr>\n",
       "      <td>2</td>\n",
       "      <td>todayilearned</td>\n",
       "      <td>TIL that Dolly Parton's family was so poor tha...</td>\n",
       "    </tr>\n",
       "    <tr>\n",
       "      <td>3</td>\n",
       "      <td>todayilearned</td>\n",
       "      <td>TIL that in a Roman hospital doctors used to h...</td>\n",
       "    </tr>\n",
       "    <tr>\n",
       "      <td>4</td>\n",
       "      <td>todayilearned</td>\n",
       "      <td>TIL that an Iraqi man slept through the invasi...</td>\n",
       "    </tr>\n",
       "  </tbody>\n",
       "</table>\n",
       "</div>"
      ],
      "text/plain": [
       "       subreddit                                              title\n",
       "0  todayilearned  TIL that, in 1954, Betty White was criticized ...\n",
       "1  todayilearned  TIL that rapper Tech N9ne picks up bras that w...\n",
       "2  todayilearned  TIL that Dolly Parton's family was so poor tha...\n",
       "3  todayilearned  TIL that in a Roman hospital doctors used to h...\n",
       "4  todayilearned  TIL that an Iraqi man slept through the invasi..."
      ]
     },
     "execution_count": 59,
     "metadata": {},
     "output_type": "execute_result"
    }
   ],
   "source": [
    "today_train_data.head()"
   ]
  },
  {
   "cell_type": "markdown",
   "metadata": {},
   "source": [
    "###### 2. Use `.append()` to combine both dataset into a single dataframe"
   ]
  },
  {
   "cell_type": "code",
   "execution_count": 60,
   "metadata": {},
   "outputs": [],
   "source": [
    "world_today_train = world_train_data.append(today_train_data)"
   ]
  },
  {
   "cell_type": "markdown",
   "metadata": {},
   "source": [
    "###### 3. Under subreddit, convert `worldnews` and `todayilearned` to 1 and 0"
   ]
  },
  {
   "cell_type": "code",
   "execution_count": 61,
   "metadata": {},
   "outputs": [],
   "source": [
    "world_today_train['subreddit'] = world_today_train['subreddit'].map({'worldnews':1,'todayilearned':0})"
   ]
  },
  {
   "cell_type": "code",
   "execution_count": 62,
   "metadata": {},
   "outputs": [
    {
     "data": {
      "text/html": [
       "<div>\n",
       "<style scoped>\n",
       "    .dataframe tbody tr th:only-of-type {\n",
       "        vertical-align: middle;\n",
       "    }\n",
       "\n",
       "    .dataframe tbody tr th {\n",
       "        vertical-align: top;\n",
       "    }\n",
       "\n",
       "    .dataframe thead th {\n",
       "        text-align: right;\n",
       "    }\n",
       "</style>\n",
       "<table border=\"1\" class=\"dataframe\">\n",
       "  <thead>\n",
       "    <tr style=\"text-align: right;\">\n",
       "      <th></th>\n",
       "      <th>subreddit</th>\n",
       "      <th>title</th>\n",
       "    </tr>\n",
       "  </thead>\n",
       "  <tbody>\n",
       "    <tr>\n",
       "      <td>0</td>\n",
       "      <td>1</td>\n",
       "      <td>Far-Right Terrorism Has Increased 320 Percent ...</td>\n",
       "    </tr>\n",
       "    <tr>\n",
       "      <td>1</td>\n",
       "      <td>1</td>\n",
       "      <td>Danish NATO event cancelled after US bars Trum...</td>\n",
       "    </tr>\n",
       "    <tr>\n",
       "      <td>2</td>\n",
       "      <td>1</td>\n",
       "      <td>Conservative government giving NHS data to Ama...</td>\n",
       "    </tr>\n",
       "    <tr>\n",
       "      <td>3</td>\n",
       "      <td>1</td>\n",
       "      <td>Whistleblower goes public after leaked documen...</td>\n",
       "    </tr>\n",
       "    <tr>\n",
       "      <td>4</td>\n",
       "      <td>1</td>\n",
       "      <td>Volcano Erupts on White Island in New Zealand,...</td>\n",
       "    </tr>\n",
       "  </tbody>\n",
       "</table>\n",
       "</div>"
      ],
      "text/plain": [
       "   subreddit                                              title\n",
       "0          1  Far-Right Terrorism Has Increased 320 Percent ...\n",
       "1          1  Danish NATO event cancelled after US bars Trum...\n",
       "2          1  Conservative government giving NHS data to Ama...\n",
       "3          1  Whistleblower goes public after leaked documen...\n",
       "4          1  Volcano Erupts on White Island in New Zealand,..."
      ]
     },
     "execution_count": 62,
     "metadata": {},
     "output_type": "execute_result"
    }
   ],
   "source": [
    "world_today_train.head()"
   ]
  },
  {
   "cell_type": "markdown",
   "metadata": {},
   "source": [
    "###### 4. Instantiate `SnowballStemmer()` and `WordNetLemmatizer()` and preprocess the text data"
   ]
  },
  {
   "cell_type": "code",
   "execution_count": 63,
   "metadata": {},
   "outputs": [],
   "source": [
    "s_stemmer = SnowballStemmer(language='english')"
   ]
  },
  {
   "cell_type": "code",
   "execution_count": 64,
   "metadata": {},
   "outputs": [],
   "source": [
    "lemmatizer = WordNetLemmatizer()"
   ]
  },
  {
   "cell_type": "code",
   "execution_count": 65,
   "metadata": {},
   "outputs": [],
   "source": [
    "world_today_train['title'] = sentence = [s_stemmer.stem(sentence) for sentence in world_today_train.title]"
   ]
  },
  {
   "cell_type": "code",
   "execution_count": 66,
   "metadata": {},
   "outputs": [],
   "source": [
    "world_today_train['title'] = text = [lemmatizer.lemmatize(text) for text in sentence]"
   ]
  },
  {
   "cell_type": "code",
   "execution_count": 67,
   "metadata": {},
   "outputs": [
    {
     "data": {
      "text/html": [
       "<div>\n",
       "<style scoped>\n",
       "    .dataframe tbody tr th:only-of-type {\n",
       "        vertical-align: middle;\n",
       "    }\n",
       "\n",
       "    .dataframe tbody tr th {\n",
       "        vertical-align: top;\n",
       "    }\n",
       "\n",
       "    .dataframe thead th {\n",
       "        text-align: right;\n",
       "    }\n",
       "</style>\n",
       "<table border=\"1\" class=\"dataframe\">\n",
       "  <thead>\n",
       "    <tr style=\"text-align: right;\">\n",
       "      <th></th>\n",
       "      <th>subreddit</th>\n",
       "      <th>title</th>\n",
       "    </tr>\n",
       "  </thead>\n",
       "  <tbody>\n",
       "    <tr>\n",
       "      <td>0</td>\n",
       "      <td>1</td>\n",
       "      <td>far-right terrorism has increased 320 percent ...</td>\n",
       "    </tr>\n",
       "    <tr>\n",
       "      <td>1</td>\n",
       "      <td>1</td>\n",
       "      <td>danish nato event cancelled after us bars trum...</td>\n",
       "    </tr>\n",
       "    <tr>\n",
       "      <td>2</td>\n",
       "      <td>1</td>\n",
       "      <td>conservative government giving nhs data to ama...</td>\n",
       "    </tr>\n",
       "    <tr>\n",
       "      <td>3</td>\n",
       "      <td>1</td>\n",
       "      <td>whistleblower goes public after leaked documen...</td>\n",
       "    </tr>\n",
       "    <tr>\n",
       "      <td>4</td>\n",
       "      <td>1</td>\n",
       "      <td>volcano erupts on white island in new zealand,...</td>\n",
       "    </tr>\n",
       "  </tbody>\n",
       "</table>\n",
       "</div>"
      ],
      "text/plain": [
       "   subreddit                                              title\n",
       "0          1  far-right terrorism has increased 320 percent ...\n",
       "1          1  danish nato event cancelled after us bars trum...\n",
       "2          1  conservative government giving nhs data to ama...\n",
       "3          1  whistleblower goes public after leaked documen...\n",
       "4          1  volcano erupts on white island in new zealand,..."
      ]
     },
     "execution_count": 67,
     "metadata": {},
     "output_type": "execute_result"
    }
   ],
   "source": [
    "world_today_train.head()"
   ]
  },
  {
   "cell_type": "markdown",
   "metadata": {},
   "source": [
    "Reset index for the rows so that the index do not have duplicates"
   ]
  },
  {
   "cell_type": "code",
   "execution_count": 68,
   "metadata": {},
   "outputs": [
    {
     "data": {
      "text/html": [
       "<div>\n",
       "<style scoped>\n",
       "    .dataframe tbody tr th:only-of-type {\n",
       "        vertical-align: middle;\n",
       "    }\n",
       "\n",
       "    .dataframe tbody tr th {\n",
       "        vertical-align: top;\n",
       "    }\n",
       "\n",
       "    .dataframe thead th {\n",
       "        text-align: right;\n",
       "    }\n",
       "</style>\n",
       "<table border=\"1\" class=\"dataframe\">\n",
       "  <thead>\n",
       "    <tr style=\"text-align: right;\">\n",
       "      <th></th>\n",
       "      <th>subreddit</th>\n",
       "      <th>title</th>\n",
       "    </tr>\n",
       "  </thead>\n",
       "  <tbody>\n",
       "    <tr>\n",
       "      <td>0</td>\n",
       "      <td>1</td>\n",
       "      <td>far-right terrorism has increased 320 percent ...</td>\n",
       "    </tr>\n",
       "    <tr>\n",
       "      <td>1</td>\n",
       "      <td>1</td>\n",
       "      <td>danish nato event cancelled after us bars trum...</td>\n",
       "    </tr>\n",
       "    <tr>\n",
       "      <td>2</td>\n",
       "      <td>1</td>\n",
       "      <td>conservative government giving nhs data to ama...</td>\n",
       "    </tr>\n",
       "    <tr>\n",
       "      <td>3</td>\n",
       "      <td>1</td>\n",
       "      <td>whistleblower goes public after leaked documen...</td>\n",
       "    </tr>\n",
       "    <tr>\n",
       "      <td>4</td>\n",
       "      <td>1</td>\n",
       "      <td>volcano erupts on white island in new zealand,...</td>\n",
       "    </tr>\n",
       "    <tr>\n",
       "      <td>...</td>\n",
       "      <td>...</td>\n",
       "      <td>...</td>\n",
       "    </tr>\n",
       "    <tr>\n",
       "      <td>1245</td>\n",
       "      <td>0</td>\n",
       "      <td>til in 1917, owners of the phelps dodge mining...</td>\n",
       "    </tr>\n",
       "    <tr>\n",
       "      <td>1246</td>\n",
       "      <td>0</td>\n",
       "      <td>til about the icelandic yule lads: a ragtag ga...</td>\n",
       "    </tr>\n",
       "    <tr>\n",
       "      <td>1247</td>\n",
       "      <td>0</td>\n",
       "      <td>til about the most decorated soldier of all ti...</td>\n",
       "    </tr>\n",
       "    <tr>\n",
       "      <td>1248</td>\n",
       "      <td>0</td>\n",
       "      <td>til coca-cola owned columbia pictures between ...</td>\n",
       "    </tr>\n",
       "    <tr>\n",
       "      <td>1249</td>\n",
       "      <td>0</td>\n",
       "      <td>til u.s ww1 submarines had masts and sails to ...</td>\n",
       "    </tr>\n",
       "  </tbody>\n",
       "</table>\n",
       "<p>1250 rows × 2 columns</p>\n",
       "</div>"
      ],
      "text/plain": [
       "      subreddit                                              title\n",
       "0             1  far-right terrorism has increased 320 percent ...\n",
       "1             1  danish nato event cancelled after us bars trum...\n",
       "2             1  conservative government giving nhs data to ama...\n",
       "3             1  whistleblower goes public after leaked documen...\n",
       "4             1  volcano erupts on white island in new zealand,...\n",
       "...         ...                                                ...\n",
       "1245          0  til in 1917, owners of the phelps dodge mining...\n",
       "1246          0  til about the icelandic yule lads: a ragtag ga...\n",
       "1247          0  til about the most decorated soldier of all ti...\n",
       "1248          0  til coca-cola owned columbia pictures between ...\n",
       "1249          0  til u.s ww1 submarines had masts and sails to ...\n",
       "\n",
       "[1250 rows x 2 columns]"
      ]
     },
     "execution_count": 68,
     "metadata": {},
     "output_type": "execute_result"
    }
   ],
   "source": [
    "world_today_train.reset_index(drop=True)"
   ]
  },
  {
   "cell_type": "code",
   "execution_count": 69,
   "metadata": {},
   "outputs": [
    {
     "data": {
      "text/plain": [
       "1    625\n",
       "0    625\n",
       "Name: subreddit, dtype: int64"
      ]
     },
     "execution_count": 69,
     "metadata": {},
     "output_type": "execute_result"
    }
   ],
   "source": [
    "world_today_train.subreddit.value_counts()"
   ]
  },
  {
   "cell_type": "markdown",
   "metadata": {},
   "source": [
    "###### 5. Create a function to remove HTML, non-letters, convert to lowercase and remove stop words."
   ]
  },
  {
   "cell_type": "code",
   "execution_count": 70,
   "metadata": {},
   "outputs": [],
   "source": [
    "def title_to_words(title):\n",
    "\n",
    "    # Remove HTML.\n",
    "    review_text = BeautifulSoup(title).get_text()\n",
    "    \n",
    "    # Remove non-letters.\n",
    "    letters = re.sub(\"[^a-zA-Z]\", \" \", review_text)\n",
    "    \n",
    "    # Convert to lower case, split into individual words.\n",
    "    words = letters.lower().split()\n",
    "\n",
    "    stops = stopwords.words('english')\n",
    "    stops.append('til')\n",
    "    stops = set(stops)\n",
    "    \n",
    "    # Remove stop words.\n",
    "    meaningful_words = [w for w in words if not w in stops]    \n",
    "    \n",
    "    return(\" \".join(meaningful_words))"
   ]
  },
  {
   "cell_type": "markdown",
   "metadata": {},
   "source": [
    "## Train-Test-Split the Data and Build a Logistic Regression Model"
   ]
  },
  {
   "cell_type": "markdown",
   "metadata": {},
   "source": [
    "###### 1. Split 'title' and 'subreddit' to X and y for train test split"
   ]
  },
  {
   "cell_type": "code",
   "execution_count": 71,
   "metadata": {},
   "outputs": [],
   "source": [
    "X_train, X_test, y_train, y_test = train_test_split(world_today_train[['title']],\n",
    "                                                    world_today_train['subreddit'],\n",
    "                                                    test_size = 0.2,\n",
    "                                                    random_state = 42)"
   ]
  },
  {
   "cell_type": "markdown",
   "metadata": {},
   "source": [
    "Create empty lists to store clean train and test data"
   ]
  },
  {
   "cell_type": "code",
   "execution_count": 72,
   "metadata": {},
   "outputs": [
    {
     "name": "stdout",
     "output_type": "stream",
     "text": [
      "There are 1250 reviews.\n"
     ]
    }
   ],
   "source": [
    "total_reviews = world_today_train.shape[0]\n",
    "print(f'There are {total_reviews} reviews.')\n",
    "\n",
    "clean_train = []\n",
    "clean_test = []"
   ]
  },
  {
   "cell_type": "code",
   "execution_count": 73,
   "metadata": {
    "scrolled": true
   },
   "outputs": [
    {
     "name": "stdout",
     "output_type": "stream",
     "text": [
      "Cleaning and parsing the training set\n",
      "Review 100 of 1250.\n",
      "Review 200 of 1250.\n",
      "Review 300 of 1250.\n",
      "Review 400 of 1250.\n",
      "Review 500 of 1250.\n",
      "Review 600 of 1250.\n",
      "Review 700 of 1250.\n",
      "Review 800 of 1250.\n",
      "Review 900 of 1250.\n",
      "Review 1000 of 1250.\n",
      "Cleaning and parsing the testing set\n",
      "Review 1100 of 1250.\n",
      "Review 1200 of 1250.\n"
     ]
    }
   ],
   "source": [
    "print(\"Cleaning and parsing the training set\")\n",
    "\n",
    "j = 0\n",
    "# Append each clean training data to clean_train list\n",
    "for train_review in X_train['title']:\n",
    "    clean_train.append(title_to_words(train_review))      \n",
    "\n",
    "    if (j + 1) % 100 == 0:\n",
    "        print(f'Review {j + 1} of {total_reviews}.')\n",
    "    \n",
    "    j += 1\n",
    "\n",
    "print(\"Cleaning and parsing the testing set\")\n",
    "\n",
    "# Append each clean testing data to clean_test list\n",
    "for test_review in X_test['title']:\n",
    "    clean_test.append(title_to_words(test_review))\n",
    "\n",
    "    if (j + 1) % 100 == 0:\n",
    "        print(f'Review {j + 1} of {total_reviews}.')\n",
    "        \n",
    "    j += 1"
   ]
  },
  {
   "cell_type": "markdown",
   "metadata": {},
   "source": [
    "###### 2. Instantiate CountVectorizer() follow by `.fit_transform()`"
   ]
  },
  {
   "cell_type": "code",
   "execution_count": 74,
   "metadata": {},
   "outputs": [],
   "source": [
    "vectorizer = CountVectorizer(max_features = 100) "
   ]
  },
  {
   "cell_type": "code",
   "execution_count": 75,
   "metadata": {},
   "outputs": [],
   "source": [
    "train_data_features = vectorizer.fit_transform(clean_train)\n",
    "\n",
    "test_data_features = vectorizer.transform(clean_test)"
   ]
  },
  {
   "cell_type": "code",
   "execution_count": 76,
   "metadata": {},
   "outputs": [],
   "source": [
    "train_data_features = train_data_features.toarray()"
   ]
  },
  {
   "cell_type": "code",
   "execution_count": 77,
   "metadata": {},
   "outputs": [
    {
     "name": "stdout",
     "output_type": "stream",
     "text": [
      "(1000, 100)\n"
     ]
    }
   ],
   "source": [
    "print(train_data_features.shape)"
   ]
  },
  {
   "cell_type": "code",
   "execution_count": 78,
   "metadata": {},
   "outputs": [
    {
     "name": "stdout",
     "output_type": "stream",
     "text": [
      "(250, 100)\n"
     ]
    }
   ],
   "source": [
    "print(test_data_features.shape)"
   ]
  },
  {
   "cell_type": "code",
   "execution_count": 79,
   "metadata": {},
   "outputs": [
    {
     "data": {
      "text/plain": [
       "array([[0, 0, 0, 0, 0, 0, 0, 0, 0, 0, 0, 0, 0, 0, 0, 0, 0, 0, 0, 0, 0, 0,\n",
       "        0, 0, 0, 0, 0, 0, 0, 0, 0, 0, 0, 0, 0, 0, 0, 0, 0, 0, 0, 0, 0, 0,\n",
       "        0, 1, 0, 0, 0, 0, 0, 0, 0, 0, 0, 0, 0, 0, 0, 0, 0, 0, 0, 0, 0, 0,\n",
       "        0, 1, 0, 0, 0, 0, 0, 0, 0, 0, 0, 0, 0, 0, 0, 1, 1, 0, 0, 0, 0, 0,\n",
       "        0, 0, 0, 0, 0, 0, 0, 0, 0, 0, 0, 0],\n",
       "       [0, 0, 0, 0, 0, 0, 0, 0, 0, 0, 0, 0, 0, 0, 0, 0, 0, 0, 0, 0, 0, 0,\n",
       "        0, 0, 0, 0, 0, 0, 0, 0, 0, 0, 0, 0, 0, 0, 0, 0, 0, 0, 0, 0, 0, 0,\n",
       "        0, 0, 0, 0, 0, 0, 0, 0, 0, 0, 0, 0, 0, 0, 0, 0, 0, 1, 0, 0, 0, 0,\n",
       "        0, 0, 0, 0, 0, 0, 0, 0, 0, 0, 0, 0, 0, 0, 0, 0, 0, 0, 0, 0, 0, 0,\n",
       "        0, 0, 1, 0, 0, 0, 0, 0, 0, 0, 0, 0],\n",
       "       [0, 0, 0, 0, 0, 0, 0, 0, 0, 0, 0, 0, 0, 0, 1, 0, 0, 0, 0, 0, 0, 0,\n",
       "        0, 0, 0, 0, 0, 0, 0, 0, 0, 0, 0, 0, 0, 0, 0, 0, 0, 0, 0, 0, 0, 0,\n",
       "        0, 0, 0, 0, 0, 0, 0, 0, 0, 0, 0, 0, 0, 0, 0, 0, 0, 0, 0, 0, 0, 0,\n",
       "        0, 0, 0, 0, 0, 0, 0, 0, 0, 1, 0, 0, 0, 0, 0, 0, 0, 0, 0, 0, 0, 0,\n",
       "        1, 0, 0, 0, 0, 0, 0, 0, 0, 0, 0, 0]], dtype=int64)"
      ]
     },
     "execution_count": 79,
     "metadata": {},
     "output_type": "execute_result"
    }
   ],
   "source": [
    "train_data_features[0:3]"
   ]
  },
  {
   "cell_type": "markdown",
   "metadata": {},
   "source": [
    "Print out the features that have significant impact to the CountVectorizer"
   ]
  },
  {
   "cell_type": "code",
   "execution_count": 80,
   "metadata": {},
   "outputs": [
    {
     "name": "stdout",
     "output_type": "stream",
     "text": [
      "['actually', 'air', 'also', 'american', 'attack', 'australia', 'back', 'big', 'boris', 'british', 'called', 'canada', 'change', 'children', 'china', 'christmas', 'city', 'climate', 'could', 'country', 'day', 'dead', 'death', 'died', 'documents', 'due', 'election', 'ever', 'film', 'fire', 'first', 'found', 'france', 'german', 'government', 'hong', 'house', 'human', 'india', 'iran', 'island', 'japan', 'johnson', 'killed', 'known', 'kong', 'last', 'later', 'least', 'life', 'like', 'live', 'made', 'man', 'men', 'million', 'money', 'name', 'new', 'north', 'old', 'one', 'people', 'police', 'president', 'protest', 'protesters', 'put', 'russian', 'said', 'saudi', 'say', 'says', 'set', 'shot', 'show', 'since', 'song', 'still', 'th', 'three', 'time', 'top', 'trump', 'two', 'uk', 'un', 'united', 'us', 'use', 'used', 'war', 'white', 'woman', 'women', 'world', 'would', 'year', 'years', 'zealand']\n"
     ]
    }
   ],
   "source": [
    "vocab = vectorizer.get_feature_names()\n",
    "print(vocab)"
   ]
  },
  {
   "cell_type": "markdown",
   "metadata": {},
   "source": [
    "###### 3. Instantiate LogisticRegression() follow by fit and score"
   ]
  },
  {
   "cell_type": "code",
   "execution_count": 81,
   "metadata": {},
   "outputs": [],
   "source": [
    "lr = LogisticRegression()"
   ]
  },
  {
   "cell_type": "code",
   "execution_count": 82,
   "metadata": {},
   "outputs": [
    {
     "name": "stderr",
     "output_type": "stream",
     "text": [
      "C:\\Users\\Willy\\Anaconda3\\lib\\site-packages\\sklearn\\linear_model\\logistic.py:432: FutureWarning: Default solver will be changed to 'lbfgs' in 0.22. Specify a solver to silence this warning.\n",
      "  FutureWarning)\n"
     ]
    },
    {
     "data": {
      "text/plain": [
       "LogisticRegression(C=1.0, class_weight=None, dual=False, fit_intercept=True,\n",
       "                   intercept_scaling=1, l1_ratio=None, max_iter=100,\n",
       "                   multi_class='warn', n_jobs=None, penalty='l2',\n",
       "                   random_state=None, solver='warn', tol=0.0001, verbose=0,\n",
       "                   warm_start=False)"
      ]
     },
     "execution_count": 82,
     "metadata": {},
     "output_type": "execute_result"
    }
   ],
   "source": [
    "lr.fit(train_data_features, y_train)"
   ]
  },
  {
   "cell_type": "markdown",
   "metadata": {},
   "source": [
    "The below output shows the score for the training set"
   ]
  },
  {
   "cell_type": "code",
   "execution_count": 83,
   "metadata": {},
   "outputs": [
    {
     "data": {
      "text/plain": [
       "0.799"
      ]
     },
     "execution_count": 83,
     "metadata": {},
     "output_type": "execute_result"
    }
   ],
   "source": [
    "lr.score(train_data_features, y_train)"
   ]
  },
  {
   "cell_type": "markdown",
   "metadata": {},
   "source": [
    "The below output shows the score for the testing set"
   ]
  },
  {
   "cell_type": "code",
   "execution_count": 84,
   "metadata": {},
   "outputs": [
    {
     "data": {
      "text/plain": [
       "0.72"
      ]
     },
     "execution_count": 84,
     "metadata": {},
     "output_type": "execute_result"
    }
   ],
   "source": [
    "lr.score(test_data_features, y_test)"
   ]
  },
  {
   "cell_type": "code",
   "execution_count": 85,
   "metadata": {},
   "outputs": [],
   "source": [
    "predict = lr.predict(test_data_features)"
   ]
  },
  {
   "cell_type": "markdown",
   "metadata": {},
   "source": [
    "###### 4. Create a confusion matrix"
   ]
  },
  {
   "cell_type": "code",
   "execution_count": 86,
   "metadata": {},
   "outputs": [
    {
     "data": {
      "text/plain": [
       "array([[96, 15],\n",
       "       [55, 84]], dtype=int64)"
      ]
     },
     "execution_count": 86,
     "metadata": {},
     "output_type": "execute_result"
    }
   ],
   "source": [
    "confusion_matrix(y_test, predict)"
   ]
  },
  {
   "cell_type": "code",
   "execution_count": 87,
   "metadata": {},
   "outputs": [],
   "source": [
    "tn, fp, fn, tp = confusion_matrix(y_test, predict).ravel()"
   ]
  },
  {
   "cell_type": "code",
   "execution_count": 88,
   "metadata": {},
   "outputs": [
    {
     "name": "stdout",
     "output_type": "stream",
     "text": [
      "True Negatives: 96\n",
      "False Positives: 15\n",
      "False Negatives: 55\n",
      "True Positives: 84\n"
     ]
    }
   ],
   "source": [
    "print(\"True Negatives: %s\" % tn)\n",
    "print(\"False Positives: %s\" % fp)\n",
    "print(\"False Negatives: %s\" % fn)\n",
    "print(\"True Positives: %s\" % tp)"
   ]
  },
  {
   "cell_type": "markdown",
   "metadata": {},
   "source": [
    "Calculate Accuracy rate"
   ]
  },
  {
   "cell_type": "code",
   "execution_count": 89,
   "metadata": {},
   "outputs": [
    {
     "name": "stdout",
     "output_type": "stream",
     "text": [
      "The Accuracy rate is 0.72\n"
     ]
    }
   ],
   "source": [
    "acc = (tp+tn)/(tn+fp+fn+tp)\n",
    "print('The Accuracy rate is '+ str(acc))"
   ]
  },
  {
   "cell_type": "markdown",
   "metadata": {},
   "source": [
    "Calculate Error rate"
   ]
  },
  {
   "cell_type": "code",
   "execution_count": 90,
   "metadata": {},
   "outputs": [
    {
     "name": "stdout",
     "output_type": "stream",
     "text": [
      "The Error rate is 0.28\n"
     ]
    }
   ],
   "source": [
    "err = (fp+fn)/(tn+fp+fn+tp)\n",
    "print('The Error rate is '+ str(err))"
   ]
  },
  {
   "cell_type": "markdown",
   "metadata": {},
   "source": [
    "## Train-Test-Split the Data and Build a Multinomial Naive Bayes"
   ]
  },
  {
   "cell_type": "markdown",
   "metadata": {},
   "source": [
    "###### 1. Instantiate TfidfVectorizer() and split into X and y for Train-Test-Split"
   ]
  },
  {
   "cell_type": "markdown",
   "metadata": {},
   "source": [
    "Adding any words that are assumed necessary into stopwords"
   ]
  },
  {
   "cell_type": "code",
   "execution_count": 91,
   "metadata": {},
   "outputs": [],
   "source": [
    "stops = stopwords.words('english')"
   ]
  },
  {
   "cell_type": "code",
   "execution_count": 92,
   "metadata": {},
   "outputs": [],
   "source": [
    "stops.append('til')"
   ]
  },
  {
   "cell_type": "markdown",
   "metadata": {},
   "source": [
    "Limit max_features to 100 which is the same limit as LinearRegression"
   ]
  },
  {
   "cell_type": "code",
   "execution_count": 93,
   "metadata": {},
   "outputs": [],
   "source": [
    "tvec = TfidfVectorizer(max_features=100, stop_words=stops, token_pattern=r'[a-zA-Z]+')"
   ]
  },
  {
   "cell_type": "code",
   "execution_count": 94,
   "metadata": {},
   "outputs": [],
   "source": [
    "X_train, X_test, y_train, y_test = train_test_split(world_today_train[['title']],\n",
    "                                                    world_today_train['subreddit'],\n",
    "                                                    test_size = 0.2,\n",
    "                                                    random_state = 42)"
   ]
  },
  {
   "cell_type": "code",
   "execution_count": 95,
   "metadata": {},
   "outputs": [],
   "source": [
    "X_train_tvec  = pd.DataFrame(tvec.fit_transform(X_train['title']).toarray(), columns = tvec.get_feature_names())"
   ]
  },
  {
   "cell_type": "code",
   "execution_count": 96,
   "metadata": {},
   "outputs": [],
   "source": [
    "X_test_tvec = tvec.transform(X_test['title']).todense()"
   ]
  },
  {
   "cell_type": "code",
   "execution_count": 97,
   "metadata": {},
   "outputs": [],
   "source": [
    "X_test_tvec = pd.DataFrame(X_test_tvec, columns = tvec.get_feature_names())"
   ]
  },
  {
   "cell_type": "markdown",
   "metadata": {},
   "source": [
    "List the features that are significant to the model"
   ]
  },
  {
   "cell_type": "code",
   "execution_count": 98,
   "metadata": {},
   "outputs": [
    {
     "data": {
      "text/plain": [
       "['actually', 'air', 'also', 'american', 'attack']"
      ]
     },
     "execution_count": 98,
     "metadata": {},
     "output_type": "execute_result"
    }
   ],
   "source": [
    "tvec.get_feature_names()[:5]"
   ]
  },
  {
   "cell_type": "markdown",
   "metadata": {},
   "source": [
    "###### 2. Instantiate MultinomialNB() follow by fit and score"
   ]
  },
  {
   "cell_type": "code",
   "execution_count": 99,
   "metadata": {},
   "outputs": [],
   "source": [
    "mnb = MultinomialNB()"
   ]
  },
  {
   "cell_type": "code",
   "execution_count": 100,
   "metadata": {},
   "outputs": [],
   "source": [
    "model = mnb.fit(X_train_tvec, y_train)"
   ]
  },
  {
   "cell_type": "code",
   "execution_count": 101,
   "metadata": {},
   "outputs": [],
   "source": [
    "predictions = model.predict(X_test_tvec)"
   ]
  },
  {
   "cell_type": "code",
   "execution_count": 102,
   "metadata": {},
   "outputs": [
    {
     "data": {
      "text/plain": [
       "array([1, 0, 1, 1, 0, 0, 0, 1, 1, 1, 0, 1, 1, 1, 0, 1, 1, 1, 0, 0, 0, 0,\n",
       "       0, 0, 0, 1, 1, 0, 0, 0, 0, 0, 0, 1, 0, 0, 1, 0, 1, 0, 1, 0, 0, 0,\n",
       "       0, 0, 1, 1, 1, 0, 0, 0, 0, 1, 1, 0, 1, 1, 0, 0, 0, 1, 1, 0, 0, 0,\n",
       "       0, 0, 0, 0, 1, 1, 0, 0, 0, 0, 0, 0, 0, 1, 0, 1, 1, 0, 0, 0, 1, 0,\n",
       "       0, 0, 1, 0, 1, 1, 0, 0, 0, 1, 0, 1, 0, 0, 1, 0, 0, 1, 0, 0, 0, 0,\n",
       "       0, 0, 0, 0, 1, 0, 0, 1, 1, 0, 1, 0, 0, 1, 1, 1, 0, 0, 0, 0, 1, 0,\n",
       "       0, 0, 1, 0, 0, 0, 1, 0, 0, 1, 1, 0, 0, 1, 0, 1, 1, 1, 0, 1, 1, 1,\n",
       "       0, 1, 0, 0, 1, 0, 1, 0, 0, 1, 0, 0, 1, 1, 0, 1, 1, 1, 0, 0, 1, 0,\n",
       "       1, 0, 0, 1, 1, 1, 1, 0, 1, 1, 0, 0, 1, 0, 1, 1, 0, 0, 0, 0, 0, 1,\n",
       "       1, 1, 1, 0, 1, 1, 0, 0, 1, 1, 0, 1, 1, 0, 1, 0, 0, 0, 0, 0, 1, 0,\n",
       "       1, 0, 1, 0, 0, 0, 1, 0, 1, 0, 1, 1, 0, 1, 0, 0, 0, 0, 0, 1, 1, 0,\n",
       "       0, 0, 0, 1, 0, 1, 1, 0], dtype=int64)"
      ]
     },
     "execution_count": 102,
     "metadata": {},
     "output_type": "execute_result"
    }
   ],
   "source": [
    "predictions"
   ]
  },
  {
   "cell_type": "markdown",
   "metadata": {},
   "source": [
    "The below output shows the score for the training data"
   ]
  },
  {
   "cell_type": "code",
   "execution_count": 103,
   "metadata": {},
   "outputs": [
    {
     "data": {
      "text/plain": [
       "0.796"
      ]
     },
     "execution_count": 103,
     "metadata": {},
     "output_type": "execute_result"
    }
   ],
   "source": [
    "model.score(X_train_tvec,y_train)"
   ]
  },
  {
   "cell_type": "markdown",
   "metadata": {},
   "source": [
    "The below output shows the score for the testing data"
   ]
  },
  {
   "cell_type": "code",
   "execution_count": 104,
   "metadata": {},
   "outputs": [
    {
     "data": {
      "text/plain": [
       "0.728"
      ]
     },
     "execution_count": 104,
     "metadata": {},
     "output_type": "execute_result"
    }
   ],
   "source": [
    "model.score(X_test_tvec,y_test)"
   ]
  },
  {
   "cell_type": "code",
   "execution_count": 105,
   "metadata": {},
   "outputs": [
    {
     "data": {
      "text/plain": [
       "array([[0.39174866, 0.60825134],\n",
       "       [0.9370503 , 0.0629497 ],\n",
       "       [0.39359602, 0.60640398],\n",
       "       [0.32435561, 0.67564439],\n",
       "       [0.514     , 0.486     ]])"
      ]
     },
     "execution_count": 105,
     "metadata": {},
     "output_type": "execute_result"
    }
   ],
   "source": [
    "model.predict_proba(X_test_tvec)[:5]"
   ]
  },
  {
   "cell_type": "code",
   "execution_count": 106,
   "metadata": {},
   "outputs": [],
   "source": [
    "prob = model.predict_proba(X_test_tvec)[:,1]"
   ]
  },
  {
   "cell_type": "markdown",
   "metadata": {},
   "source": [
    "###### 3. Create a confusion matrix"
   ]
  },
  {
   "cell_type": "code",
   "execution_count": 107,
   "metadata": {},
   "outputs": [
    {
     "data": {
      "text/plain": [
       "array([[95, 16],\n",
       "       [52, 87]], dtype=int64)"
      ]
     },
     "execution_count": 107,
     "metadata": {},
     "output_type": "execute_result"
    }
   ],
   "source": [
    "confusion_matrix(y_test, predictions)"
   ]
  },
  {
   "cell_type": "code",
   "execution_count": 108,
   "metadata": {},
   "outputs": [],
   "source": [
    "tn, fp, fn, tp = confusion_matrix(y_test, predictions).ravel()"
   ]
  },
  {
   "cell_type": "code",
   "execution_count": 109,
   "metadata": {},
   "outputs": [
    {
     "name": "stdout",
     "output_type": "stream",
     "text": [
      "True Negatives: 95\n",
      "False Positives: 16\n",
      "False Negatives: 52\n",
      "True Positives: 87\n"
     ]
    }
   ],
   "source": [
    "print(\"True Negatives: %s\" % tn)\n",
    "print(\"False Positives: %s\" % fp)\n",
    "print(\"False Negatives: %s\" % fn)\n",
    "print(\"True Positives: %s\" % tp)"
   ]
  },
  {
   "cell_type": "markdown",
   "metadata": {},
   "source": [
    "Calculate Accuracy rate"
   ]
  },
  {
   "cell_type": "code",
   "execution_count": 110,
   "metadata": {},
   "outputs": [
    {
     "name": "stdout",
     "output_type": "stream",
     "text": [
      "The Accuracy rate is 0.728\n"
     ]
    }
   ],
   "source": [
    "acc = (tp+tn)/(tn+fp+fn+tp)\n",
    "print('The Accuracy rate is '+ str(acc))"
   ]
  },
  {
   "cell_type": "markdown",
   "metadata": {},
   "source": [
    "Calculate Error rate"
   ]
  },
  {
   "cell_type": "code",
   "execution_count": 111,
   "metadata": {},
   "outputs": [
    {
     "name": "stdout",
     "output_type": "stream",
     "text": [
      "The Error rate is 0.272\n"
     ]
    }
   ],
   "source": [
    "err = (fp+fn)/(tn+fp+fn+tp)\n",
    "print('The Error rate is '+ str(err))"
   ]
  },
  {
   "cell_type": "markdown",
   "metadata": {},
   "source": [
    "###### 4. Calculate the baseline accuracy for this dataset"
   ]
  },
  {
   "cell_type": "code",
   "execution_count": 112,
   "metadata": {},
   "outputs": [
    {
     "data": {
      "text/plain": [
       "1    0.5\n",
       "0    0.5\n",
       "Name: subreddit, dtype: float64"
      ]
     },
     "execution_count": 112,
     "metadata": {},
     "output_type": "execute_result"
    }
   ],
   "source": [
    "world_today_train.subreddit.value_counts(normalize=True)"
   ]
  },
  {
   "cell_type": "markdown",
   "metadata": {},
   "source": [
    "## Conclusion and Recommendation"
   ]
  },
  {
   "cell_type": "code",
   "execution_count": 113,
   "metadata": {},
   "outputs": [],
   "source": [
    "def plot_roc_curve(fpr, tpr):\n",
    "    plt.plot(fpr, tpr, color='orange', label='ROC')\n",
    "    plt.plot([0, 1], [0, 1], color='darkblue', linestyle='--')\n",
    "    plt.xlabel('Specificity')\n",
    "    plt.ylabel('Sensitivity')\n",
    "    plt.title('Receiver Operating Characteristic (ROC) Curve')\n",
    "    plt.legend()\n",
    "    plt.show()"
   ]
  },
  {
   "cell_type": "code",
   "execution_count": 114,
   "metadata": {},
   "outputs": [],
   "source": [
    "fpr, tpr, thresholds = roc_curve(y_test, prob)"
   ]
  },
  {
   "cell_type": "code",
   "execution_count": 115,
   "metadata": {},
   "outputs": [
    {
     "data": {
      "image/png": "[encoded data removed]",
      "text/plain": [
       "<Figure size 432x288 with 1 Axes>"
      ]
     },
     "metadata": {
      "needs_background": "light"
     },
     "output_type": "display_data"
    }
   ],
   "source": [
    "plot_roc_curve(fpr,tpr)"
   ]
  },
  {
   "cell_type": "code",
   "execution_count": 116,
   "metadata": {},
   "outputs": [],
   "source": [
    "auc = roc_auc_score(y_test, prob)"
   ]
  },
  {
   "cell_type": "code",
   "execution_count": 117,
   "metadata": {},
   "outputs": [
    {
     "data": {
      "text/plain": [
       "0.8525503921187374"
      ]
     },
     "execution_count": 117,
     "metadata": {},
     "output_type": "execute_result"
    }
   ],
   "source": [
    "auc"
   ]
  },
  {
   "cell_type": "markdown",
   "metadata": {},
   "source": [
    "In this project, we are tasked to identify posts that belong to either 'todayilearned' or 'worldnews' subreddit. After webscraping the subreddits for data, we preprocessed it and we built a Logistic Regression model as well as a Multinomial Naive Bayes model to train the data. Both models performed fairly well with 0.72 accuracy rate for Logistic Regression and 0.728 for Multinomial Naive Bayes model but Multinomial Naive Bayes model would be recommended because MultinomialNB model is more stable compared to Logistic Regression model when comparing their scores for the train set against their test set. \n",
    "\n",
    "For the Receiver Operating Characteristic Curve above, we want the yellow line to be as far away from the blue line as much as possible which is also represented as the Area Under Curve. The AUC for the above ROC is 0.852 which means that it is quite accurate and this is considered acceptable for our Multinomial Naive Bayes model."
   ]
  },
  {
   "cell_type": "markdown",
   "metadata": {},
   "source": [
    "[Back to top](#Executive-Summary)"
   ]
  }
 ],
 "metadata": {
  "kernelspec": {
   "display_name": "Python 3",
   "language": "python",
   "name": "python3"
  },
  "language_info": {
   "codemirror_mode": {
    "name": "ipython",
    "version": 3
   },
   "file_extension": ".py",
   "mimetype": "text/x-python",
   "name": "python",
   "nbconvert_exporter": "python",
   "pygments_lexer": "ipython3",
   "version": "3.7.4"
  }
 },
 "nbformat": 4,
 "nbformat_minor": 2
}
